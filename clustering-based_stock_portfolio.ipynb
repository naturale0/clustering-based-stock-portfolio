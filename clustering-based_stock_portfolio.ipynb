{
 "cells": [
  {
   "cell_type": "markdown",
   "metadata": {},
   "source": [
    "# Clustering-based Stock Portfolio\n",
    "1. [Data preprocessing](#01.-Data-Preprocessing)\n",
    "2. [Main](#02.-Main)\n",
    "3. [Analysis](#03.-Analysis)"
   ]
  },
  {
   "cell_type": "code",
   "execution_count": null,
   "metadata": {},
   "outputs": [],
   "source": [
    "from src.preprocessing_utils import *\n",
    "from src.clustering import *\n",
    "from src.portfolio import *\n",
    "from functools import reduce\n",
    "import pandas as pd\n",
    "import numpy as np\n",
    "import seaborn.apionly as sns\n",
    "import matplotlib.pyplot as plt\n",
    "import os\n",
    "import pickle"
   ]
  },
  {
   "cell_type": "markdown",
   "metadata": {},
   "source": [
    "---"
   ]
  },
  {
   "cell_type": "markdown",
   "metadata": {},
   "source": [
    "## 01. Data Preprocessing\n",
    "### `scripts/01_data-preprocessing.R` $\\rightarrow$ `scripts/preprocess.py`"
   ]
  },
  {
   "cell_type": "markdown",
   "metadata": {},
   "source": [
    "### Stock data"
   ]
  },
  {
   "cell_type": "code",
   "execution_count": 2,
   "metadata": {},
   "outputs": [],
   "source": [
    "path = os.path.join(\"data\", \"raw\")\n",
    "file_names = [\"asset\", \"asset-growth\", \"equity\", \"equity-turnover\",\n",
    "              \"leverage\", \"market-cap\", \"net-profit\", \"pcr\", \"per\",\n",
    "              \"stock-number\", \"stock-price\", \"trade-amount\", \"volatility\"]\n",
    "var_names = [\"asset\", \"asset_growth\", \"equity\", \"equity_turnover\",\n",
    "             \"leverage\", \"market_cap\", \"net_profit\", \"pcr\", \"per\",\n",
    "             \"stock_num\", \"price\", \"trade_amount\", \"volatility\"]\n",
    "extension = \".xls\""
   ]
  },
  {
   "cell_type": "code",
   "execution_count": 3,
   "metadata": {},
   "outputs": [
    {
     "name": "stdout",
     "output_type": "stream",
     "text": [
      "asset, asset-growth, equity, equity-turnover, leverage, market-cap, net-profit, pcr, per, stock-number, stock-price, trade-amount, volatility, "
     ]
    },
    {
     "data": {
      "text/html": [
       "<div>\n",
       "<style scoped>\n",
       "    .dataframe tbody tr th:only-of-type {\n",
       "        vertical-align: middle;\n",
       "    }\n",
       "\n",
       "    .dataframe tbody tr th {\n",
       "        vertical-align: top;\n",
       "    }\n",
       "\n",
       "    .dataframe thead th {\n",
       "        text-align: right;\n",
       "    }\n",
       "</style>\n",
       "<table border=\"1\" class=\"dataframe\">\n",
       "  <thead>\n",
       "    <tr style=\"text-align: right;\">\n",
       "      <th></th>\n",
       "      <th>code</th>\n",
       "      <th>time</th>\n",
       "      <th>leverage</th>\n",
       "      <th>asset_growth</th>\n",
       "      <th>shares_turnover</th>\n",
       "      <th>roa</th>\n",
       "      <th>roe</th>\n",
       "      <th>size</th>\n",
       "      <th>pcr</th>\n",
       "      <th>per</th>\n",
       "      <th>equity_turnover</th>\n",
       "      <th>volatility</th>\n",
       "      <th>logret</th>\n",
       "    </tr>\n",
       "  </thead>\n",
       "  <tbody>\n",
       "    <tr>\n",
       "      <th>0</th>\n",
       "      <td>000020</td>\n",
       "      <td>1997-1</td>\n",
       "      <td>NaN</td>\n",
       "      <td>NaN</td>\n",
       "      <td>0.006314</td>\n",
       "      <td>NaN</td>\n",
       "      <td>NaN</td>\n",
       "      <td>8.850400e+10</td>\n",
       "      <td>NaN</td>\n",
       "      <td>15.586667</td>\n",
       "      <td>NaN</td>\n",
       "      <td>60.255281</td>\n",
       "      <td>NaN</td>\n",
       "    </tr>\n",
       "    <tr>\n",
       "      <th>1</th>\n",
       "      <td>000020</td>\n",
       "      <td>1997-2</td>\n",
       "      <td>206.92</td>\n",
       "      <td>23.60</td>\n",
       "      <td>0.015739</td>\n",
       "      <td>0.002507</td>\n",
       "      <td>0.007696</td>\n",
       "      <td>1.104880e+11</td>\n",
       "      <td>NaN</td>\n",
       "      <td>11.053333</td>\n",
       "      <td>2.22</td>\n",
       "      <td>62.004616</td>\n",
       "      <td>0.235505</td>\n",
       "    </tr>\n",
       "    <tr>\n",
       "      <th>2</th>\n",
       "      <td>000020</td>\n",
       "      <td>1997-3</td>\n",
       "      <td>NaN</td>\n",
       "      <td>NaN</td>\n",
       "      <td>0.004035</td>\n",
       "      <td>NaN</td>\n",
       "      <td>NaN</td>\n",
       "      <td>1.087867e+11</td>\n",
       "      <td>NaN</td>\n",
       "      <td>10.543333</td>\n",
       "      <td>NaN</td>\n",
       "      <td>56.334550</td>\n",
       "      <td>-0.040738</td>\n",
       "    </tr>\n",
       "    <tr>\n",
       "      <th>3</th>\n",
       "      <td>000020</td>\n",
       "      <td>1997-4</td>\n",
       "      <td>324.23</td>\n",
       "      <td>12.41</td>\n",
       "      <td>0.004633</td>\n",
       "      <td>0.009214</td>\n",
       "      <td>0.039088</td>\n",
       "      <td>4.613333e+10</td>\n",
       "      <td>NaN</td>\n",
       "      <td>4.346667</td>\n",
       "      <td>2.89</td>\n",
       "      <td>62.702979</td>\n",
       "      <td>-0.847219</td>\n",
       "    </tr>\n",
       "    <tr>\n",
       "      <th>4</th>\n",
       "      <td>000020</td>\n",
       "      <td>1998-1</td>\n",
       "      <td>NaN</td>\n",
       "      <td>NaN</td>\n",
       "      <td>0.012191</td>\n",
       "      <td>NaN</td>\n",
       "      <td>NaN</td>\n",
       "      <td>5.973333e+10</td>\n",
       "      <td>NaN</td>\n",
       "      <td>4.750000</td>\n",
       "      <td>NaN</td>\n",
       "      <td>73.726084</td>\n",
       "      <td>0.120535</td>\n",
       "    </tr>\n",
       "  </tbody>\n",
       "</table>\n",
       "</div>"
      ],
      "text/plain": [
       "     code    time  leverage  asset_growth  shares_turnover       roa  \\\n",
       "0  000020  1997-1       NaN           NaN         0.006314       NaN   \n",
       "1  000020  1997-2    206.92         23.60         0.015739  0.002507   \n",
       "2  000020  1997-3       NaN           NaN         0.004035       NaN   \n",
       "3  000020  1997-4    324.23         12.41         0.004633  0.009214   \n",
       "4  000020  1998-1       NaN           NaN         0.012191       NaN   \n",
       "\n",
       "        roe          size  pcr        per  equity_turnover  volatility  \\\n",
       "0       NaN  8.850400e+10  NaN  15.586667              NaN   60.255281   \n",
       "1  0.007696  1.104880e+11  NaN  11.053333             2.22   62.004616   \n",
       "2       NaN  1.087867e+11  NaN  10.543333              NaN   56.334550   \n",
       "3  0.039088  4.613333e+10  NaN   4.346667             2.89   62.702979   \n",
       "4       NaN  5.973333e+10  NaN   4.750000              NaN   73.726084   \n",
       "\n",
       "     logret  \n",
       "0       NaN  \n",
       "1  0.235505  \n",
       "2 -0.040738  \n",
       "3 -0.847219  \n",
       "4  0.120535  "
      ]
     },
     "execution_count": 3,
     "metadata": {},
     "output_type": "execute_result"
    }
   ],
   "source": [
    "stock_tbl = preprocess(path, file_names, var_names, extension=\".xls\")\n",
    "stock_tbl.head()"
   ]
  },
  {
   "cell_type": "markdown",
   "metadata": {},
   "source": [
    "### KOSPI index"
   ]
  },
  {
   "cell_type": "code",
   "execution_count": 4,
   "metadata": {},
   "outputs": [],
   "source": [
    "def unpack_df(df):\n",
    "    df = df.reset_index()\n",
    "    df[\"time\"] = df[['time', 'level_1']].astype(str).apply(lambda x: '-'.join(x), axis=1)\n",
    "    df = pd.concat([df.time, df.price], axis=1)\n",
    "    df.columns = [\"time\", \"logret\"]\n",
    "    return df"
   ]
  },
  {
   "cell_type": "code",
   "execution_count": 14,
   "metadata": {},
   "outputs": [
    {
     "data": {
      "text/html": [
       "<div>\n",
       "<style scoped>\n",
       "    .dataframe tbody tr th:only-of-type {\n",
       "        vertical-align: middle;\n",
       "    }\n",
       "\n",
       "    .dataframe tbody tr th {\n",
       "        vertical-align: top;\n",
       "    }\n",
       "\n",
       "    .dataframe thead th {\n",
       "        text-align: right;\n",
       "    }\n",
       "</style>\n",
       "<table border=\"1\" class=\"dataframe\">\n",
       "  <thead>\n",
       "    <tr style=\"text-align: right;\">\n",
       "      <th></th>\n",
       "      <th>time</th>\n",
       "      <th>logret</th>\n",
       "    </tr>\n",
       "  </thead>\n",
       "  <tbody>\n",
       "    <tr>\n",
       "      <th>0</th>\n",
       "      <td>1997-1</td>\n",
       "      <td>NaN</td>\n",
       "    </tr>\n",
       "    <tr>\n",
       "      <th>1</th>\n",
       "      <td>1997-2</td>\n",
       "      <td>0.082477</td>\n",
       "    </tr>\n",
       "    <tr>\n",
       "      <th>2</th>\n",
       "      <td>1997-3</td>\n",
       "      <td>-0.064037</td>\n",
       "    </tr>\n",
       "    <tr>\n",
       "      <th>3</th>\n",
       "      <td>1997-4</td>\n",
       "      <td>-0.499768</td>\n",
       "    </tr>\n",
       "    <tr>\n",
       "      <th>4</th>\n",
       "      <td>1998-1</td>\n",
       "      <td>0.247514</td>\n",
       "    </tr>\n",
       "  </tbody>\n",
       "</table>\n",
       "</div>"
      ],
      "text/plain": [
       "     time    logret\n",
       "0  1997-1       NaN\n",
       "1  1997-2  0.082477\n",
       "2  1997-3 -0.064037\n",
       "3  1997-4 -0.499768\n",
       "4  1998-1  0.247514"
      ]
     },
     "execution_count": 14,
     "metadata": {},
     "output_type": "execute_result"
    }
   ],
   "source": [
    "kospi = pd.read_excel(\"data/raw/kospi-index.xlsx\", names=[\"time\", \"price\"])\n",
    "g = kospi.groupby([pd.DatetimeIndex(kospi.time).year, as_quarter(pd.DatetimeIndex(kospi.time).month)])\n",
    "g = np.log(g.mean()).diff()\n",
    "kospi = unpack_df(g)\n",
    "kospi.head()"
   ]
  },
  {
   "cell_type": "markdown",
   "metadata": {},
   "source": [
    "### Risk-free rate"
   ]
  },
  {
   "cell_type": "code",
   "execution_count": 10,
   "metadata": {},
   "outputs": [
    {
     "data": {
      "text/html": [
       "<div>\n",
       "<style scoped>\n",
       "    .dataframe tbody tr th:only-of-type {\n",
       "        vertical-align: middle;\n",
       "    }\n",
       "\n",
       "    .dataframe tbody tr th {\n",
       "        vertical-align: top;\n",
       "    }\n",
       "\n",
       "    .dataframe thead th {\n",
       "        text-align: right;\n",
       "    }\n",
       "</style>\n",
       "<table border=\"1\" class=\"dataframe\">\n",
       "  <thead>\n",
       "    <tr style=\"text-align: right;\">\n",
       "      <th></th>\n",
       "      <th>time</th>\n",
       "      <th>r</th>\n",
       "    </tr>\n",
       "  </thead>\n",
       "  <tbody>\n",
       "    <tr>\n",
       "      <th>0</th>\n",
       "      <td>1997-1</td>\n",
       "      <td>0.119707</td>\n",
       "    </tr>\n",
       "    <tr>\n",
       "      <th>1</th>\n",
       "      <td>1997-2</td>\n",
       "      <td>0.118287</td>\n",
       "    </tr>\n",
       "    <tr>\n",
       "      <th>2</th>\n",
       "      <td>1997-3</td>\n",
       "      <td>0.119115</td>\n",
       "    </tr>\n",
       "    <tr>\n",
       "      <th>3</th>\n",
       "      <td>1997-4</td>\n",
       "      <td>0.145110</td>\n",
       "    </tr>\n",
       "    <tr>\n",
       "      <th>4</th>\n",
       "      <td>1998-1</td>\n",
       "      <td>0.204599</td>\n",
       "    </tr>\n",
       "  </tbody>\n",
       "</table>\n",
       "</div>"
      ],
      "text/plain": [
       "     time         r\n",
       "0  1997-1  0.119707\n",
       "1  1997-2  0.118287\n",
       "2  1997-3  0.119115\n",
       "3  1997-4  0.145110\n",
       "4  1998-1  0.204599"
      ]
     },
     "execution_count": 10,
     "metadata": {},
     "output_type": "execute_result"
    }
   ],
   "source": [
    "risk_free = pd.read_excel(\"data/raw/cd-risk-free.xlsx\", names=[\"time\", \"r\"])\n",
    "risk_free.time = risk_free.time.str.replace(\"/\", \"-\").str.split().str[0]\n",
    "risk_free.r = np.log(1 + risk_free.r / 100)\n",
    "risk_free.head()"
   ]
  },
  {
   "cell_type": "markdown",
   "metadata": {},
   "source": [
    "### Save processed data"
   ]
  },
  {
   "cell_type": "raw",
   "metadata": {},
   "source": [
    "import os\n",
    "os.mkdir(\"data/processed\")"
   ]
  },
  {
   "cell_type": "code",
   "execution_count": 11,
   "metadata": {},
   "outputs": [],
   "source": [
    "stock_tbl.to_csv(\"data/processed/stock2.csv\", index=False)\n",
    "kospi.to_csv(\"data/processed/kospi2.csv\", index=False)\n",
    "risk_free.to_csv(\"data/processed/risk_free2.csv\", index=False)"
   ]
  },
  {
   "cell_type": "code",
   "execution_count": null,
   "metadata": {},
   "outputs": [],
   "source": []
  },
  {
   "cell_type": "markdown",
   "metadata": {},
   "source": [
    "---"
   ]
  },
  {
   "cell_type": "markdown",
   "metadata": {},
   "source": [
    "## 02. Main\n",
    "### `scripts/02_main.R` $\\rightarrow$ `scripts/main.py`"
   ]
  },
  {
   "cell_type": "markdown",
   "metadata": {},
   "source": [
    "### Random state"
   ]
  },
  {
   "cell_type": "code",
   "execution_count": 51,
   "metadata": {},
   "outputs": [],
   "source": [
    "random_state = 0"
   ]
  },
  {
   "cell_type": "markdown",
   "metadata": {},
   "source": [
    "### Load data"
   ]
  },
  {
   "cell_type": "code",
   "execution_count": 52,
   "metadata": {},
   "outputs": [],
   "source": [
    "stock_tbl = pd.read_csv(\"data/processed/stock.csv\")\n",
    "kospi = pd.read_csv(\"data/processed/kospi.csv\")\n",
    "risk_free = pd.read_csv(\"data/processed/risk_free.csv\")"
   ]
  },
  {
   "cell_type": "markdown",
   "metadata": {},
   "source": [
    "### Models"
   ]
  },
  {
   "cell_type": "code",
   "execution_count": 53,
   "metadata": {},
   "outputs": [],
   "source": [
    "with_list = [\n",
    "    \"return\", \n",
    "    \"market_residual\", \n",
    "    \"factors\", \n",
    "    \"factors_residual\"\n",
    "]\n",
    "n_time_list = [\n",
    "    6, 8, \n",
    "    10, 12\n",
    "]\n",
    "method_list = [\n",
    "    \"GMV\", \"Tangency\"\n",
    "]"
   ]
  },
  {
   "cell_type": "markdown",
   "metadata": {},
   "source": [
    "### Validation period"
   ]
  },
  {
   "cell_type": "code",
   "execution_count": 54,
   "metadata": {
    "scrolled": true
   },
   "outputs": [
    {
     "name": "stdout",
     "output_type": "stream",
     "text": [
      "from 2002-4 to 2005-3\n",
      "  with: return\n",
      "  n_time: 6\n",
      "  method: GMV\n"
     ]
    },
    {
     "name": "stderr",
     "output_type": "stream",
     "text": [
      "100%|██████████████████████████████████████████████████████████████████████████████████| 12/12 [00:23<00:00,  1.91s/it]\n"
     ]
    },
    {
     "name": "stdout",
     "output_type": "stream",
     "text": [
      "  with: return\n",
      "  n_time: 6\n",
      "  method: Tangency\n"
     ]
    },
    {
     "name": "stderr",
     "output_type": "stream",
     "text": [
      "100%|██████████████████████████████████████████████████████████████████████████████████| 12/12 [00:22<00:00,  1.90s/it]\n"
     ]
    },
    {
     "name": "stdout",
     "output_type": "stream",
     "text": [
      "  with: return\n",
      "  n_time: 8\n",
      "  method: GMV\n"
     ]
    },
    {
     "name": "stderr",
     "output_type": "stream",
     "text": [
      "100%|██████████████████████████████████████████████████████████████████████████████████| 12/12 [00:30<00:00,  2.50s/it]\n"
     ]
    },
    {
     "name": "stdout",
     "output_type": "stream",
     "text": [
      "  with: return\n",
      "  n_time: 8\n",
      "  method: Tangency\n"
     ]
    },
    {
     "name": "stderr",
     "output_type": "stream",
     "text": [
      "100%|██████████████████████████████████████████████████████████████████████████████████| 12/12 [00:29<00:00,  2.48s/it]\n"
     ]
    },
    {
     "name": "stdout",
     "output_type": "stream",
     "text": [
      "  with: return\n",
      "  n_time: 10\n",
      "  method: GMV\n"
     ]
    },
    {
     "name": "stderr",
     "output_type": "stream",
     "text": [
      "100%|██████████████████████████████████████████████████████████████████████████████████| 12/12 [00:38<00:00,  3.12s/it]\n"
     ]
    },
    {
     "name": "stdout",
     "output_type": "stream",
     "text": [
      "  with: return\n",
      "  n_time: 10\n",
      "  method: Tangency\n"
     ]
    },
    {
     "name": "stderr",
     "output_type": "stream",
     "text": [
      "100%|██████████████████████████████████████████████████████████████████████████████████| 12/12 [00:37<00:00,  3.13s/it]\n"
     ]
    },
    {
     "name": "stdout",
     "output_type": "stream",
     "text": [
      "  with: return\n",
      "  n_time: 12\n",
      "  method: GMV\n"
     ]
    },
    {
     "name": "stderr",
     "output_type": "stream",
     "text": [
      "100%|██████████████████████████████████████████████████████████████████████████████████| 12/12 [00:45<00:00,  3.86s/it]\n"
     ]
    },
    {
     "name": "stdout",
     "output_type": "stream",
     "text": [
      "  with: return\n",
      "  n_time: 12\n",
      "  method: Tangency\n"
     ]
    },
    {
     "name": "stderr",
     "output_type": "stream",
     "text": [
      "100%|██████████████████████████████████████████████████████████████████████████████████| 12/12 [00:44<00:00,  3.72s/it]\n"
     ]
    },
    {
     "name": "stdout",
     "output_type": "stream",
     "text": [
      "  with: market_residual\n",
      "  n_time: 6\n",
      "  method: GMV\n"
     ]
    },
    {
     "name": "stderr",
     "output_type": "stream",
     "text": [
      "100%|██████████████████████████████████████████████████████████████████████████████████| 12/12 [01:17<00:00,  6.56s/it]\n"
     ]
    },
    {
     "name": "stdout",
     "output_type": "stream",
     "text": [
      "  with: market_residual\n",
      "  n_time: 6\n",
      "  method: Tangency\n"
     ]
    },
    {
     "name": "stderr",
     "output_type": "stream",
     "text": [
      "100%|██████████████████████████████████████████████████████████████████████████████████| 12/12 [01:27<00:00,  7.51s/it]\n"
     ]
    },
    {
     "name": "stdout",
     "output_type": "stream",
     "text": [
      "  with: market_residual\n",
      "  n_time: 8\n",
      "  method: GMV\n"
     ]
    },
    {
     "name": "stderr",
     "output_type": "stream",
     "text": [
      "100%|██████████████████████████████████████████████████████████████████████████████████| 12/12 [01:35<00:00,  7.20s/it]\n"
     ]
    },
    {
     "name": "stdout",
     "output_type": "stream",
     "text": [
      "  with: market_residual\n",
      "  n_time: 8\n",
      "  method: Tangency\n"
     ]
    },
    {
     "name": "stderr",
     "output_type": "stream",
     "text": [
      "100%|██████████████████████████████████████████████████████████████████████████████████| 12/12 [01:25<00:00,  7.11s/it]\n"
     ]
    },
    {
     "name": "stdout",
     "output_type": "stream",
     "text": [
      "  with: market_residual\n",
      "  n_time: 10\n",
      "  method: GMV\n"
     ]
    },
    {
     "name": "stderr",
     "output_type": "stream",
     "text": [
      "100%|██████████████████████████████████████████████████████████████████████████████████| 12/12 [01:32<00:00,  7.88s/it]\n"
     ]
    },
    {
     "name": "stdout",
     "output_type": "stream",
     "text": [
      "  with: market_residual\n",
      "  n_time: 10\n",
      "  method: Tangency\n"
     ]
    },
    {
     "name": "stderr",
     "output_type": "stream",
     "text": [
      "100%|██████████████████████████████████████████████████████████████████████████████████| 12/12 [01:32<00:00,  7.72s/it]\n"
     ]
    },
    {
     "name": "stdout",
     "output_type": "stream",
     "text": [
      "  with: market_residual\n",
      "  n_time: 12\n",
      "  method: GMV\n"
     ]
    },
    {
     "name": "stderr",
     "output_type": "stream",
     "text": [
      "100%|██████████████████████████████████████████████████████████████████████████████████| 12/12 [01:41<00:00,  8.46s/it]\n"
     ]
    },
    {
     "name": "stdout",
     "output_type": "stream",
     "text": [
      "  with: market_residual\n",
      "  n_time: 12\n",
      "  method: Tangency\n"
     ]
    },
    {
     "name": "stderr",
     "output_type": "stream",
     "text": [
      "100%|██████████████████████████████████████████████████████████████████████████████████| 12/12 [01:40<00:00,  8.39s/it]\n"
     ]
    },
    {
     "name": "stdout",
     "output_type": "stream",
     "text": [
      "  with: factors\n",
      "  n_time: 6\n",
      "  method: GMV\n"
     ]
    },
    {
     "name": "stderr",
     "output_type": "stream",
     "text": [
      "100%|██████████████████████████████████████████████████████████████████████████████████| 12/12 [00:10<00:00,  1.10it/s]\n"
     ]
    },
    {
     "name": "stdout",
     "output_type": "stream",
     "text": [
      "  with: factors\n",
      "  n_time: 6\n",
      "  method: Tangency\n"
     ]
    },
    {
     "name": "stderr",
     "output_type": "stream",
     "text": [
      "100%|██████████████████████████████████████████████████████████████████████████████████| 12/12 [00:10<00:00,  1.11it/s]\n"
     ]
    },
    {
     "name": "stdout",
     "output_type": "stream",
     "text": [
      "  with: factors\n",
      "  n_time: 8\n",
      "  method: GMV\n"
     ]
    },
    {
     "name": "stderr",
     "output_type": "stream",
     "text": [
      "100%|██████████████████████████████████████████████████████████████████████████████████| 12/12 [00:13<00:00,  1.14s/it]\n"
     ]
    },
    {
     "name": "stdout",
     "output_type": "stream",
     "text": [
      "  with: factors\n",
      "  n_time: 8\n",
      "  method: Tangency\n"
     ]
    },
    {
     "name": "stderr",
     "output_type": "stream",
     "text": [
      "100%|██████████████████████████████████████████████████████████████████████████████████| 12/12 [00:13<00:00,  1.15s/it]\n"
     ]
    },
    {
     "name": "stdout",
     "output_type": "stream",
     "text": [
      "  with: factors\n",
      "  n_time: 10\n",
      "  method: GMV\n"
     ]
    },
    {
     "name": "stderr",
     "output_type": "stream",
     "text": [
      "100%|██████████████████████████████████████████████████████████████████████████████████| 12/12 [00:16<00:00,  1.48s/it]\n"
     ]
    },
    {
     "name": "stdout",
     "output_type": "stream",
     "text": [
      "  with: factors\n",
      "  n_time: 10\n",
      "  method: Tangency\n"
     ]
    },
    {
     "name": "stderr",
     "output_type": "stream",
     "text": [
      "100%|██████████████████████████████████████████████████████████████████████████████████| 12/12 [00:16<00:00,  1.42s/it]\n"
     ]
    },
    {
     "name": "stdout",
     "output_type": "stream",
     "text": [
      "  with: factors\n",
      "  n_time: 12\n",
      "  method: GMV\n"
     ]
    },
    {
     "name": "stderr",
     "output_type": "stream",
     "text": [
      "100%|██████████████████████████████████████████████████████████████████████████████████| 12/12 [00:20<00:00,  1.77s/it]\n"
     ]
    },
    {
     "name": "stdout",
     "output_type": "stream",
     "text": [
      "  with: factors\n",
      "  n_time: 12\n",
      "  method: Tangency\n"
     ]
    },
    {
     "name": "stderr",
     "output_type": "stream",
     "text": [
      "100%|██████████████████████████████████████████████████████████████████████████████████| 12/12 [00:20<00:00,  1.76s/it]\n"
     ]
    },
    {
     "name": "stdout",
     "output_type": "stream",
     "text": [
      "  with: factors_residual\n",
      "  n_time: 6\n",
      "  method: GMV\n"
     ]
    },
    {
     "name": "stderr",
     "output_type": "stream",
     "text": [
      "100%|██████████████████████████████████████████████████████████████████████████████████| 12/12 [01:46<00:00,  8.82s/it]\n"
     ]
    },
    {
     "name": "stdout",
     "output_type": "stream",
     "text": [
      "  with: factors_residual\n",
      "  n_time: 6\n",
      "  method: Tangency\n"
     ]
    },
    {
     "name": "stderr",
     "output_type": "stream",
     "text": [
      "100%|██████████████████████████████████████████████████████████████████████████████████| 12/12 [01:46<00:00,  8.87s/it]\n"
     ]
    },
    {
     "name": "stdout",
     "output_type": "stream",
     "text": [
      "  with: factors_residual\n",
      "  n_time: 8\n",
      "  method: GMV\n"
     ]
    },
    {
     "name": "stderr",
     "output_type": "stream",
     "text": [
      "100%|██████████████████████████████████████████████████████████████████████████████████| 12/12 [01:54<00:00,  9.57s/it]\n"
     ]
    },
    {
     "name": "stdout",
     "output_type": "stream",
     "text": [
      "  with: factors_residual\n",
      "  n_time: 8\n",
      "  method: Tangency\n"
     ]
    },
    {
     "name": "stderr",
     "output_type": "stream",
     "text": [
      "100%|██████████████████████████████████████████████████████████████████████████████████| 12/12 [01:55<00:00,  9.59s/it]\n"
     ]
    },
    {
     "name": "stdout",
     "output_type": "stream",
     "text": [
      "  with: factors_residual\n",
      "  n_time: 10\n",
      "  method: GMV\n"
     ]
    },
    {
     "name": "stderr",
     "output_type": "stream",
     "text": [
      "100%|██████████████████████████████████████████████████████████████████████████████████| 12/12 [02:03<00:00, 10.32s/it]\n"
     ]
    },
    {
     "name": "stdout",
     "output_type": "stream",
     "text": [
      "  with: factors_residual\n",
      "  n_time: 10\n",
      "  method: Tangency\n"
     ]
    },
    {
     "name": "stderr",
     "output_type": "stream",
     "text": [
      "100%|██████████████████████████████████████████████████████████████████████████████████| 12/12 [02:03<00:00, 10.31s/it]\n"
     ]
    },
    {
     "name": "stdout",
     "output_type": "stream",
     "text": [
      "  with: factors_residual\n",
      "  n_time: 12\n",
      "  method: GMV\n"
     ]
    },
    {
     "name": "stderr",
     "output_type": "stream",
     "text": [
      "100%|██████████████████████████████████████████████████████████████████████████████████| 12/12 [02:11<00:00, 10.97s/it]\n"
     ]
    },
    {
     "name": "stdout",
     "output_type": "stream",
     "text": [
      "  with: factors_residual\n",
      "  n_time: 12\n",
      "  method: Tangency\n"
     ]
    },
    {
     "name": "stderr",
     "output_type": "stream",
     "text": [
      "100%|██████████████████████████████████████████████████████████████████████████████████| 12/12 [02:14<00:00, 11.87s/it]\n"
     ]
    },
    {
     "name": "stdout",
     "output_type": "stream",
     "text": [
      "from 2005-4 to 2008-3\n",
      "  with: return\n",
      "  n_time: 6\n",
      "  method: GMV\n"
     ]
    },
    {
     "name": "stderr",
     "output_type": "stream",
     "text": [
      "100%|██████████████████████████████████████████████████████████████████████████████████| 12/12 [00:25<00:00,  2.12s/it]\n"
     ]
    },
    {
     "name": "stdout",
     "output_type": "stream",
     "text": [
      "  with: return\n",
      "  n_time: 6\n",
      "  method: Tangency\n"
     ]
    },
    {
     "name": "stderr",
     "output_type": "stream",
     "text": [
      "100%|██████████████████████████████████████████████████████████████████████████████████| 12/12 [00:24<00:00,  2.05s/it]\n"
     ]
    },
    {
     "name": "stdout",
     "output_type": "stream",
     "text": [
      "  with: return\n",
      "  n_time: 8\n",
      "  method: GMV\n"
     ]
    },
    {
     "name": "stderr",
     "output_type": "stream",
     "text": [
      "100%|██████████████████████████████████████████████████████████████████████████████████| 12/12 [00:33<00:00,  2.72s/it]\n"
     ]
    },
    {
     "name": "stdout",
     "output_type": "stream",
     "text": [
      "  with: return\n",
      "  n_time: 8\n",
      "  method: Tangency\n"
     ]
    },
    {
     "name": "stderr",
     "output_type": "stream",
     "text": [
      "100%|██████████████████████████████████████████████████████████████████████████████████| 12/12 [00:32<00:00,  2.72s/it]\n"
     ]
    },
    {
     "name": "stdout",
     "output_type": "stream",
     "text": [
      "  with: return\n",
      "  n_time: 10\n",
      "  method: GMV\n"
     ]
    },
    {
     "name": "stderr",
     "output_type": "stream",
     "text": [
      "100%|██████████████████████████████████████████████████████████████████████████████████| 12/12 [00:40<00:00,  3.40s/it]\n"
     ]
    },
    {
     "name": "stdout",
     "output_type": "stream",
     "text": [
      "  with: return\n",
      "  n_time: 10\n",
      "  method: Tangency\n"
     ]
    },
    {
     "name": "stderr",
     "output_type": "stream",
     "text": [
      "100%|██████████████████████████████████████████████████████████████████████████████████| 12/12 [00:41<00:00,  3.48s/it]\n"
     ]
    },
    {
     "name": "stdout",
     "output_type": "stream",
     "text": [
      "  with: return\n",
      "  n_time: 12\n",
      "  method: GMV\n"
     ]
    },
    {
     "name": "stderr",
     "output_type": "stream",
     "text": [
      "100%|██████████████████████████████████████████████████████████████████████████████████| 12/12 [00:49<00:00,  4.11s/it]\n"
     ]
    },
    {
     "name": "stdout",
     "output_type": "stream",
     "text": [
      "  with: return\n",
      "  n_time: 12\n",
      "  method: Tangency\n"
     ]
    },
    {
     "name": "stderr",
     "output_type": "stream",
     "text": [
      "100%|██████████████████████████████████████████████████████████████████████████████████| 12/12 [00:49<00:00,  4.13s/it]\n"
     ]
    },
    {
     "name": "stdout",
     "output_type": "stream",
     "text": [
      "  with: market_residual\n",
      "  n_time: 6\n",
      "  method: GMV\n"
     ]
    },
    {
     "name": "stderr",
     "output_type": "stream",
     "text": [
      "100%|██████████████████████████████████████████████████████████████████████████████████| 12/12 [01:23<00:00,  6.89s/it]\n"
     ]
    },
    {
     "name": "stdout",
     "output_type": "stream",
     "text": [
      "  with: market_residual\n",
      "  n_time: 6\n",
      "  method: Tangency\n"
     ]
    },
    {
     "name": "stderr",
     "output_type": "stream",
     "text": [
      "100%|██████████████████████████████████████████████████████████████████████████████████| 12/12 [01:23<00:00,  6.92s/it]\n"
     ]
    },
    {
     "name": "stdout",
     "output_type": "stream",
     "text": [
      "  with: market_residual\n",
      "  n_time: 8\n",
      "  method: GMV\n"
     ]
    },
    {
     "name": "stderr",
     "output_type": "stream",
     "text": [
      "100%|██████████████████████████████████████████████████████████████████████████████████| 12/12 [01:31<00:00,  7.72s/it]\n"
     ]
    },
    {
     "name": "stdout",
     "output_type": "stream",
     "text": [
      "  with: market_residual\n",
      "  n_time: 8\n",
      "  method: Tangency\n"
     ]
    },
    {
     "name": "stderr",
     "output_type": "stream",
     "text": [
      "100%|██████████████████████████████████████████████████████████████████████████████████| 12/12 [01:30<00:00,  7.56s/it]\n"
     ]
    },
    {
     "name": "stdout",
     "output_type": "stream",
     "text": [
      "  with: market_residual\n",
      "  n_time: 10\n",
      "  method: GMV\n"
     ]
    },
    {
     "name": "stderr",
     "output_type": "stream",
     "text": [
      "100%|██████████████████████████████████████████████████████████████████████████████████| 12/12 [01:40<00:00,  8.33s/it]\n"
     ]
    },
    {
     "name": "stdout",
     "output_type": "stream",
     "text": [
      "  with: market_residual\n",
      "  n_time: 10\n",
      "  method: Tangency\n"
     ]
    },
    {
     "name": "stderr",
     "output_type": "stream",
     "text": [
      "100%|██████████████████████████████████████████████████████████████████████████████████| 12/12 [01:40<00:00,  8.30s/it]\n"
     ]
    },
    {
     "name": "stdout",
     "output_type": "stream",
     "text": [
      "  with: market_residual\n",
      "  n_time: 12\n",
      "  method: GMV\n"
     ]
    },
    {
     "name": "stderr",
     "output_type": "stream",
     "text": [
      "100%|██████████████████████████████████████████████████████████████████████████████████| 12/12 [01:48<00:00,  9.05s/it]\n"
     ]
    },
    {
     "name": "stdout",
     "output_type": "stream",
     "text": [
      "  with: market_residual\n",
      "  n_time: 12\n",
      "  method: Tangency\n"
     ]
    },
    {
     "name": "stderr",
     "output_type": "stream",
     "text": [
      "100%|██████████████████████████████████████████████████████████████████████████████████| 12/12 [01:48<00:00,  9.06s/it]\n"
     ]
    },
    {
     "name": "stdout",
     "output_type": "stream",
     "text": [
      "  with: factors\n",
      "  n_time: 6\n",
      "  method: GMV\n"
     ]
    },
    {
     "name": "stderr",
     "output_type": "stream",
     "text": [
      "100%|██████████████████████████████████████████████████████████████████████████████████| 12/12 [00:12<00:00,  1.08s/it]\n"
     ]
    },
    {
     "name": "stdout",
     "output_type": "stream",
     "text": [
      "  with: factors\n",
      "  n_time: 6\n",
      "  method: Tangency\n"
     ]
    },
    {
     "name": "stderr",
     "output_type": "stream",
     "text": [
      "100%|██████████████████████████████████████████████████████████████████████████████████| 12/12 [00:12<00:00,  1.07s/it]\n"
     ]
    },
    {
     "name": "stdout",
     "output_type": "stream",
     "text": [
      "  with: factors\n",
      "  n_time: 8\n",
      "  method: GMV\n"
     ]
    },
    {
     "name": "stderr",
     "output_type": "stream",
     "text": [
      "100%|██████████████████████████████████████████████████████████████████████████████████| 12/12 [00:15<00:00,  1.34s/it]\n"
     ]
    },
    {
     "name": "stdout",
     "output_type": "stream",
     "text": [
      "  with: factors\n",
      "  n_time: 8\n",
      "  method: Tangency\n"
     ]
    },
    {
     "name": "stderr",
     "output_type": "stream",
     "text": [
      "100%|██████████████████████████████████████████████████████████████████████████████████| 12/12 [00:16<00:00,  1.35s/it]\n"
     ]
    },
    {
     "name": "stdout",
     "output_type": "stream",
     "text": [
      "  with: factors\n",
      "  n_time: 10\n",
      "  method: GMV\n"
     ]
    },
    {
     "name": "stderr",
     "output_type": "stream",
     "text": [
      "100%|██████████████████████████████████████████████████████████████████████████████████| 12/12 [00:19<00:00,  1.64s/it]\n"
     ]
    },
    {
     "name": "stdout",
     "output_type": "stream",
     "text": [
      "  with: factors\n",
      "  n_time: 10\n",
      "  method: Tangency\n"
     ]
    },
    {
     "name": "stderr",
     "output_type": "stream",
     "text": [
      "100%|██████████████████████████████████████████████████████████████████████████████████| 12/12 [00:20<00:00,  1.64s/it]\n"
     ]
    },
    {
     "name": "stdout",
     "output_type": "stream",
     "text": [
      "  with: factors\n",
      "  n_time: 12\n",
      "  method: GMV\n"
     ]
    },
    {
     "name": "stderr",
     "output_type": "stream",
     "text": [
      "100%|██████████████████████████████████████████████████████████████████████████████████| 12/12 [00:22<00:00,  1.94s/it]\n"
     ]
    },
    {
     "name": "stdout",
     "output_type": "stream",
     "text": [
      "  with: factors\n",
      "  n_time: 12\n",
      "  method: Tangency\n"
     ]
    },
    {
     "name": "stderr",
     "output_type": "stream",
     "text": [
      "100%|██████████████████████████████████████████████████████████████████████████████████| 12/12 [00:23<00:00,  1.95s/it]\n"
     ]
    },
    {
     "name": "stdout",
     "output_type": "stream",
     "text": [
      "  with: factors_residual\n",
      "  n_time: 6\n",
      "  method: GMV\n"
     ]
    },
    {
     "name": "stderr",
     "output_type": "stream",
     "text": [
      "100%|██████████████████████████████████████████████████████████████████████████████████| 12/12 [01:46<00:00,  8.82s/it]\n"
     ]
    },
    {
     "name": "stdout",
     "output_type": "stream",
     "text": [
      "  with: factors_residual\n",
      "  n_time: 6\n",
      "  method: Tangency\n"
     ]
    },
    {
     "name": "stderr",
     "output_type": "stream",
     "text": [
      "100%|██████████████████████████████████████████████████████████████████████████████████| 12/12 [01:46<00:00,  8.86s/it]\n"
     ]
    },
    {
     "name": "stdout",
     "output_type": "stream",
     "text": [
      "  with: factors_residual\n",
      "  n_time: 8\n",
      "  method: GMV\n"
     ]
    },
    {
     "name": "stderr",
     "output_type": "stream",
     "text": [
      "100%|██████████████████████████████████████████████████████████████████████████████████| 12/12 [01:54<00:00,  9.58s/it]\n"
     ]
    },
    {
     "name": "stdout",
     "output_type": "stream",
     "text": [
      "  with: factors_residual\n",
      "  n_time: 8\n",
      "  method: Tangency\n"
     ]
    },
    {
     "name": "stderr",
     "output_type": "stream",
     "text": [
      "100%|██████████████████████████████████████████████████████████████████████████████████| 12/12 [01:55<00:00,  9.61s/it]\n"
     ]
    },
    {
     "name": "stdout",
     "output_type": "stream",
     "text": [
      "  with: factors_residual\n",
      "  n_time: 10\n",
      "  method: GMV\n"
     ]
    },
    {
     "name": "stderr",
     "output_type": "stream",
     "text": [
      "100%|██████████████████████████████████████████████████████████████████████████████████| 12/12 [02:03<00:00, 10.32s/it]\n"
     ]
    },
    {
     "name": "stdout",
     "output_type": "stream",
     "text": [
      "  with: factors_residual\n",
      "  n_time: 10\n",
      "  method: Tangency\n"
     ]
    },
    {
     "name": "stderr",
     "output_type": "stream",
     "text": [
      "100%|██████████████████████████████████████████████████████████████████████████████████| 12/12 [02:03<00:00, 10.28s/it]\n"
     ]
    },
    {
     "name": "stdout",
     "output_type": "stream",
     "text": [
      "  with: factors_residual\n",
      "  n_time: 12\n",
      "  method: GMV\n"
     ]
    },
    {
     "name": "stderr",
     "output_type": "stream",
     "text": [
      "100%|██████████████████████████████████████████████████████████████████████████████████| 12/12 [02:12<00:00, 10.99s/it]\n"
     ]
    },
    {
     "name": "stdout",
     "output_type": "stream",
     "text": [
      "  with: factors_residual\n",
      "  n_time: 12\n",
      "  method: Tangency\n"
     ]
    },
    {
     "name": "stderr",
     "output_type": "stream",
     "text": [
      "100%|██████████████████████████████████████████████████████████████████████████████████| 12/12 [02:12<00:00, 11.02s/it]\n"
     ]
    },
    {
     "name": "stdout",
     "output_type": "stream",
     "text": [
      "from 2008-4 to 2011-3\n",
      "  with: return\n",
      "  n_time: 6\n",
      "  method: GMV\n"
     ]
    },
    {
     "name": "stderr",
     "output_type": "stream",
     "text": [
      "100%|██████████████████████████████████████████████████████████████████████████████████| 12/12 [00:24<00:00,  2.05s/it]\n"
     ]
    },
    {
     "name": "stdout",
     "output_type": "stream",
     "text": [
      "  with: return\n",
      "  n_time: 6\n",
      "  method: Tangency\n"
     ]
    },
    {
     "name": "stderr",
     "output_type": "stream",
     "text": [
      "100%|██████████████████████████████████████████████████████████████████████████████████| 12/12 [00:24<00:00,  2.09s/it]\n"
     ]
    },
    {
     "name": "stdout",
     "output_type": "stream",
     "text": [
      "  with: return\n",
      "  n_time: 8\n",
      "  method: GMV\n"
     ]
    },
    {
     "name": "stderr",
     "output_type": "stream",
     "text": [
      "100%|██████████████████████████████████████████████████████████████████████████████████| 12/12 [00:33<00:00,  2.75s/it]\n"
     ]
    },
    {
     "name": "stdout",
     "output_type": "stream",
     "text": [
      "  with: return\n",
      "  n_time: 8\n",
      "  method: Tangency\n"
     ]
    },
    {
     "name": "stderr",
     "output_type": "stream",
     "text": [
      "100%|██████████████████████████████████████████████████████████████████████████████████| 12/12 [00:32<00:00,  2.73s/it]\n"
     ]
    },
    {
     "name": "stdout",
     "output_type": "stream",
     "text": [
      "  with: return\n",
      "  n_time: 10\n",
      "  method: GMV\n"
     ]
    },
    {
     "name": "stderr",
     "output_type": "stream",
     "text": [
      "100%|██████████████████████████████████████████████████████████████████████████████████| 12/12 [00:41<00:00,  3.41s/it]\n"
     ]
    },
    {
     "name": "stdout",
     "output_type": "stream",
     "text": [
      "  with: return\n",
      "  n_time: 10\n",
      "  method: Tangency\n"
     ]
    },
    {
     "name": "stderr",
     "output_type": "stream",
     "text": [
      "100%|██████████████████████████████████████████████████████████████████████████████████| 12/12 [00:41<00:00,  3.46s/it]\n"
     ]
    },
    {
     "name": "stdout",
     "output_type": "stream",
     "text": [
      "  with: return\n",
      "  n_time: 12\n",
      "  method: GMV\n"
     ]
    },
    {
     "name": "stderr",
     "output_type": "stream",
     "text": [
      "100%|██████████████████████████████████████████████████████████████████████████████████| 12/12 [00:48<00:00,  4.08s/it]\n"
     ]
    },
    {
     "name": "stdout",
     "output_type": "stream",
     "text": [
      "  with: return\n",
      "  n_time: 12\n",
      "  method: Tangency\n"
     ]
    },
    {
     "name": "stderr",
     "output_type": "stream",
     "text": [
      "100%|██████████████████████████████████████████████████████████████████████████████████| 12/12 [00:49<00:00,  4.11s/it]\n"
     ]
    },
    {
     "name": "stdout",
     "output_type": "stream",
     "text": [
      "  with: market_residual\n",
      "  n_time: 6\n",
      "  method: GMV\n"
     ]
    },
    {
     "name": "stderr",
     "output_type": "stream",
     "text": [
      "100%|██████████████████████████████████████████████████████████████████████████████████| 12/12 [01:23<00:00,  6.95s/it]\n"
     ]
    },
    {
     "name": "stdout",
     "output_type": "stream",
     "text": [
      "  with: market_residual\n",
      "  n_time: 6\n",
      "  method: Tangency\n"
     ]
    },
    {
     "name": "stderr",
     "output_type": "stream",
     "text": [
      "100%|██████████████████████████████████████████████████████████████████████████████████| 12/12 [01:23<00:00,  6.95s/it]\n"
     ]
    },
    {
     "name": "stdout",
     "output_type": "stream",
     "text": [
      "  with: market_residual\n",
      "  n_time: 8\n",
      "  method: GMV\n"
     ]
    },
    {
     "name": "stderr",
     "output_type": "stream",
     "text": [
      "100%|██████████████████████████████████████████████████████████████████████████████████| 12/12 [01:32<00:00,  7.72s/it]\n"
     ]
    },
    {
     "name": "stdout",
     "output_type": "stream",
     "text": [
      "  with: market_residual\n",
      "  n_time: 8\n",
      "  method: Tangency\n"
     ]
    },
    {
     "name": "stderr",
     "output_type": "stream",
     "text": [
      "100%|██████████████████████████████████████████████████████████████████████████████████| 12/12 [01:31<00:00,  7.63s/it]\n"
     ]
    },
    {
     "name": "stdout",
     "output_type": "stream",
     "text": [
      "  with: market_residual\n",
      "  n_time: 10\n",
      "  method: GMV\n"
     ]
    },
    {
     "name": "stderr",
     "output_type": "stream",
     "text": [
      "100%|██████████████████████████████████████████████████████████████████████████████████| 12/12 [01:40<00:00,  8.35s/it]\n"
     ]
    },
    {
     "name": "stdout",
     "output_type": "stream",
     "text": [
      "  with: market_residual\n",
      "  n_time: 10\n",
      "  method: Tangency\n"
     ]
    },
    {
     "name": "stderr",
     "output_type": "stream",
     "text": [
      "100%|██████████████████████████████████████████████████████████████████████████████████| 12/12 [01:41<00:00,  8.47s/it]\n"
     ]
    },
    {
     "name": "stdout",
     "output_type": "stream",
     "text": [
      "  with: market_residual\n",
      "  n_time: 12\n",
      "  method: GMV\n"
     ]
    },
    {
     "name": "stderr",
     "output_type": "stream",
     "text": [
      "100%|██████████████████████████████████████████████████████████████████████████████████| 12/12 [01:49<00:00,  9.10s/it]\n"
     ]
    },
    {
     "name": "stdout",
     "output_type": "stream",
     "text": [
      "  with: market_residual\n",
      "  n_time: 12\n",
      "  method: Tangency\n"
     ]
    },
    {
     "name": "stderr",
     "output_type": "stream",
     "text": [
      "100%|██████████████████████████████████████████████████████████████████████████████████| 12/12 [01:49<00:00,  9.06s/it]\n"
     ]
    },
    {
     "name": "stdout",
     "output_type": "stream",
     "text": [
      "  with: factors\n",
      "  n_time: 6\n",
      "  method: GMV\n"
     ]
    },
    {
     "name": "stderr",
     "output_type": "stream",
     "text": [
      "100%|██████████████████████████████████████████████████████████████████████████████████| 12/12 [00:13<00:00,  1.14s/it]\n"
     ]
    },
    {
     "name": "stdout",
     "output_type": "stream",
     "text": [
      "  with: factors\n",
      "  n_time: 6\n",
      "  method: Tangency\n"
     ]
    },
    {
     "name": "stderr",
     "output_type": "stream",
     "text": [
      "100%|██████████████████████████████████████████████████████████████████████████████████| 12/12 [00:12<00:00,  1.12s/it]\n"
     ]
    },
    {
     "name": "stdout",
     "output_type": "stream",
     "text": [
      "  with: factors\n",
      "  n_time: 8\n",
      "  method: GMV\n"
     ]
    },
    {
     "name": "stderr",
     "output_type": "stream",
     "text": [
      "100%|██████████████████████████████████████████████████████████████████████████████████| 12/12 [00:16<00:00,  1.42s/it]\n"
     ]
    },
    {
     "name": "stdout",
     "output_type": "stream",
     "text": [
      "  with: factors\n",
      "  n_time: 8\n",
      "  method: Tangency\n"
     ]
    },
    {
     "name": "stderr",
     "output_type": "stream",
     "text": [
      "100%|██████████████████████████████████████████████████████████████████████████████████| 12/12 [00:16<00:00,  1.41s/it]\n"
     ]
    },
    {
     "name": "stdout",
     "output_type": "stream",
     "text": [
      "  with: factors\n",
      "  n_time: 10\n",
      "  method: GMV\n"
     ]
    },
    {
     "name": "stderr",
     "output_type": "stream",
     "text": [
      "100%|██████████████████████████████████████████████████████████████████████████████████| 12/12 [00:20<00:00,  1.80s/it]\n"
     ]
    },
    {
     "name": "stdout",
     "output_type": "stream",
     "text": [
      "  with: factors\n",
      "  n_time: 10\n",
      "  method: Tangency\n"
     ]
    },
    {
     "name": "stderr",
     "output_type": "stream",
     "text": [
      "100%|██████████████████████████████████████████████████████████████████████████████████| 12/12 [00:20<00:00,  1.72s/it]\n"
     ]
    },
    {
     "name": "stdout",
     "output_type": "stream",
     "text": [
      "  with: factors\n",
      "  n_time: 12\n",
      "  method: GMV\n"
     ]
    },
    {
     "name": "stderr",
     "output_type": "stream",
     "text": [
      "100%|██████████████████████████████████████████████████████████████████████████████████| 12/12 [00:23<00:00,  2.01s/it]\n"
     ]
    },
    {
     "name": "stdout",
     "output_type": "stream",
     "text": [
      "  with: factors\n",
      "  n_time: 12\n",
      "  method: Tangency\n"
     ]
    },
    {
     "name": "stderr",
     "output_type": "stream",
     "text": [
      "100%|██████████████████████████████████████████████████████████████████████████████████| 12/12 [00:23<00:00,  2.00s/it]\n"
     ]
    },
    {
     "name": "stdout",
     "output_type": "stream",
     "text": [
      "  with: factors_residual\n",
      "  n_time: 6\n",
      "  method: GMV\n"
     ]
    },
    {
     "name": "stderr",
     "output_type": "stream",
     "text": [
      "100%|██████████████████████████████████████████████████████████████████████████████████| 12/12 [01:46<00:00,  8.84s/it]\n"
     ]
    },
    {
     "name": "stdout",
     "output_type": "stream",
     "text": [
      "  with: factors_residual\n",
      "  n_time: 6\n",
      "  method: Tangency\n"
     ]
    },
    {
     "name": "stderr",
     "output_type": "stream",
     "text": [
      "100%|██████████████████████████████████████████████████████████████████████████████████| 12/12 [01:46<00:00,  8.89s/it]\n"
     ]
    },
    {
     "name": "stdout",
     "output_type": "stream",
     "text": [
      "  with: factors_residual\n",
      "  n_time: 8\n",
      "  method: GMV\n"
     ]
    },
    {
     "name": "stderr",
     "output_type": "stream",
     "text": [
      "100%|██████████████████████████████████████████████████████████████████████████████████| 12/12 [01:59<00:00,  9.68s/it]\n"
     ]
    },
    {
     "name": "stdout",
     "output_type": "stream",
     "text": [
      "  with: factors_residual\n",
      "  n_time: 8\n",
      "  method: Tangency\n"
     ]
    },
    {
     "name": "stderr",
     "output_type": "stream",
     "text": [
      "100%|██████████████████████████████████████████████████████████████████████████████████| 12/12 [01:55<00:00,  9.62s/it]\n"
     ]
    },
    {
     "name": "stdout",
     "output_type": "stream",
     "text": [
      "  with: factors_residual\n",
      "  n_time: 10\n",
      "  method: GMV\n"
     ]
    },
    {
     "name": "stderr",
     "output_type": "stream",
     "text": [
      "100%|██████████████████████████████████████████████████████████████████████████████████| 12/12 [02:04<00:00, 10.30s/it]\n"
     ]
    },
    {
     "name": "stdout",
     "output_type": "stream",
     "text": [
      "  with: factors_residual\n",
      "  n_time: 10\n",
      "  method: Tangency\n"
     ]
    },
    {
     "name": "stderr",
     "output_type": "stream",
     "text": [
      "100%|██████████████████████████████████████████████████████████████████████████████████| 12/12 [02:03<00:00, 10.31s/it]\n"
     ]
    },
    {
     "name": "stdout",
     "output_type": "stream",
     "text": [
      "  with: factors_residual\n",
      "  n_time: 12\n",
      "  method: GMV\n"
     ]
    },
    {
     "name": "stderr",
     "output_type": "stream",
     "text": [
      "100%|██████████████████████████████████████████████████████████████████████████████████| 12/12 [02:12<00:00, 10.99s/it]\n"
     ]
    },
    {
     "name": "stdout",
     "output_type": "stream",
     "text": [
      "  with: factors_residual\n",
      "  n_time: 12\n",
      "  method: Tangency\n"
     ]
    },
    {
     "name": "stderr",
     "output_type": "stream",
     "text": [
      "100%|██████████████████████████████████████████████████████████████████████████████████| 12/12 [02:12<00:00, 10.99s/it]\n",
      "C:\\Users\\user\\Desktop\\clustering-based-stock-portfolio\\src\\portfolio.py:96: RuntimeWarning: invalid value encountered in sqrt\n",
      "  pr_sd = np.diag(np.sqrt(pr_tbl.iloc[:, 2:].cov()))\n"
     ]
    },
    {
     "name": "stdout",
     "output_type": "stream",
     "text": [
      "from 2011-4 to 2014-3\n",
      "  with: return\n",
      "  n_time: 6\n",
      "  method: GMV\n"
     ]
    },
    {
     "name": "stderr",
     "output_type": "stream",
     "text": [
      "100%|██████████████████████████████████████████████████████████████████████████████████| 12/12 [00:25<00:00,  2.10s/it]\n"
     ]
    },
    {
     "name": "stdout",
     "output_type": "stream",
     "text": [
      "  with: return\n",
      "  n_time: 6\n",
      "  method: Tangency\n"
     ]
    },
    {
     "name": "stderr",
     "output_type": "stream",
     "text": [
      "100%|██████████████████████████████████████████████████████████████████████████████████| 12/12 [00:26<00:00,  2.21s/it]\n"
     ]
    },
    {
     "name": "stdout",
     "output_type": "stream",
     "text": [
      "  with: return\n",
      "  n_time: 8\n",
      "  method: GMV\n"
     ]
    },
    {
     "name": "stderr",
     "output_type": "stream",
     "text": [
      "100%|██████████████████████████████████████████████████████████████████████████████████| 12/12 [00:33<00:00,  2.79s/it]\n"
     ]
    },
    {
     "name": "stdout",
     "output_type": "stream",
     "text": [
      "  with: return\n",
      "  n_time: 8\n",
      "  method: Tangency\n"
     ]
    },
    {
     "name": "stderr",
     "output_type": "stream",
     "text": [
      "100%|██████████████████████████████████████████████████████████████████████████████████| 12/12 [00:33<00:00,  2.78s/it]\n"
     ]
    },
    {
     "name": "stdout",
     "output_type": "stream",
     "text": [
      "  with: return\n",
      "  n_time: 10\n",
      "  method: GMV\n"
     ]
    },
    {
     "name": "stderr",
     "output_type": "stream",
     "text": [
      "100%|██████████████████████████████████████████████████████████████████████████████████| 12/12 [00:41<00:00,  3.48s/it]\n"
     ]
    },
    {
     "name": "stdout",
     "output_type": "stream",
     "text": [
      "  with: return\n",
      "  n_time: 10\n",
      "  method: Tangency\n"
     ]
    },
    {
     "name": "stderr",
     "output_type": "stream",
     "text": [
      "100%|██████████████████████████████████████████████████████████████████████████████████| 12/12 [00:43<00:00,  3.51s/it]\n"
     ]
    },
    {
     "name": "stdout",
     "output_type": "stream",
     "text": [
      "  with: return\n",
      "  n_time: 12\n",
      "  method: GMV\n"
     ]
    },
    {
     "name": "stderr",
     "output_type": "stream",
     "text": [
      "100%|██████████████████████████████████████████████████████████████████████████████████| 12/12 [00:49<00:00,  4.12s/it]\n"
     ]
    },
    {
     "name": "stdout",
     "output_type": "stream",
     "text": [
      "  with: return\n",
      "  n_time: 12\n",
      "  method: Tangency\n"
     ]
    },
    {
     "name": "stderr",
     "output_type": "stream",
     "text": [
      "100%|██████████████████████████████████████████████████████████████████████████████████| 12/12 [00:50<00:00,  4.19s/it]\n"
     ]
    },
    {
     "name": "stdout",
     "output_type": "stream",
     "text": [
      "  with: market_residual\n",
      "  n_time: 6\n",
      "  method: GMV\n"
     ]
    },
    {
     "name": "stderr",
     "output_type": "stream",
     "text": [
      "100%|██████████████████████████████████████████████████████████████████████████████████| 12/12 [01:23<00:00,  6.97s/it]\n"
     ]
    },
    {
     "name": "stdout",
     "output_type": "stream",
     "text": [
      "  with: market_residual\n",
      "  n_time: 6\n",
      "  method: Tangency\n"
     ]
    },
    {
     "name": "stderr",
     "output_type": "stream",
     "text": [
      "100%|██████████████████████████████████████████████████████████████████████████████████| 12/12 [01:25<00:00,  7.04s/it]\n"
     ]
    },
    {
     "name": "stdout",
     "output_type": "stream",
     "text": [
      "  with: market_residual\n",
      "  n_time: 8\n",
      "  method: GMV\n"
     ]
    },
    {
     "name": "stderr",
     "output_type": "stream",
     "text": [
      "100%|██████████████████████████████████████████████████████████████████████████████████| 12/12 [01:32<00:00,  7.72s/it]\n"
     ]
    },
    {
     "name": "stdout",
     "output_type": "stream",
     "text": [
      "  with: market_residual\n",
      "  n_time: 8\n",
      "  method: Tangency\n"
     ]
    },
    {
     "name": "stderr",
     "output_type": "stream",
     "text": [
      "100%|██████████████████████████████████████████████████████████████████████████████████| 12/12 [01:33<00:00,  7.87s/it]\n"
     ]
    },
    {
     "name": "stdout",
     "output_type": "stream",
     "text": [
      "  with: market_residual\n",
      "  n_time: 10\n",
      "  method: GMV\n"
     ]
    },
    {
     "name": "stderr",
     "output_type": "stream",
     "text": [
      "100%|██████████████████████████████████████████████████████████████████████████████████| 12/12 [01:40<00:00,  8.38s/it]\n"
     ]
    },
    {
     "name": "stdout",
     "output_type": "stream",
     "text": [
      "  with: market_residual\n",
      "  n_time: 10\n",
      "  method: Tangency\n"
     ]
    },
    {
     "name": "stderr",
     "output_type": "stream",
     "text": [
      "100%|██████████████████████████████████████████████████████████████████████████████████| 12/12 [01:41<00:00,  8.41s/it]\n"
     ]
    },
    {
     "name": "stdout",
     "output_type": "stream",
     "text": [
      "  with: market_residual\n",
      "  n_time: 12\n",
      "  method: GMV\n"
     ]
    },
    {
     "name": "stderr",
     "output_type": "stream",
     "text": [
      "100%|██████████████████████████████████████████████████████████████████████████████████| 12/12 [01:52<00:00,  9.20s/it]\n"
     ]
    },
    {
     "name": "stdout",
     "output_type": "stream",
     "text": [
      "  with: market_residual\n",
      "  n_time: 12\n",
      "  method: Tangency\n"
     ]
    },
    {
     "name": "stderr",
     "output_type": "stream",
     "text": [
      "100%|██████████████████████████████████████████████████████████████████████████████████| 12/12 [01:50<00:00,  9.15s/it]\n"
     ]
    },
    {
     "name": "stdout",
     "output_type": "stream",
     "text": [
      "  with: factors\n",
      "  n_time: 6\n",
      "  method: GMV\n"
     ]
    },
    {
     "name": "stderr",
     "output_type": "stream",
     "text": [
      "100%|██████████████████████████████████████████████████████████████████████████████████| 12/12 [00:14<00:00,  1.19s/it]\n"
     ]
    },
    {
     "name": "stdout",
     "output_type": "stream",
     "text": [
      "  with: factors\n",
      "  n_time: 6\n",
      "  method: Tangency\n"
     ]
    },
    {
     "name": "stderr",
     "output_type": "stream",
     "text": [
      "100%|██████████████████████████████████████████████████████████████████████████████████| 12/12 [00:14<00:00,  1.20s/it]\n"
     ]
    },
    {
     "name": "stdout",
     "output_type": "stream",
     "text": [
      "  with: factors\n",
      "  n_time: 8\n",
      "  method: GMV\n"
     ]
    },
    {
     "name": "stderr",
     "output_type": "stream",
     "text": [
      "100%|██████████████████████████████████████████████████████████████████████████████████| 12/12 [00:19<00:00,  1.61s/it]\n"
     ]
    },
    {
     "name": "stdout",
     "output_type": "stream",
     "text": [
      "  with: factors\n",
      "  n_time: 8\n",
      "  method: Tangency\n"
     ]
    },
    {
     "name": "stderr",
     "output_type": "stream",
     "text": [
      "100%|██████████████████████████████████████████████████████████████████████████████████| 12/12 [00:18<00:00,  1.55s/it]\n"
     ]
    },
    {
     "name": "stdout",
     "output_type": "stream",
     "text": [
      "  with: factors\n",
      "  n_time: 10\n",
      "  method: GMV\n"
     ]
    },
    {
     "name": "stderr",
     "output_type": "stream",
     "text": [
      "100%|██████████████████████████████████████████████████████████████████████████████████| 12/12 [00:22<00:00,  1.90s/it]\n"
     ]
    },
    {
     "name": "stdout",
     "output_type": "stream",
     "text": [
      "  with: factors\n",
      "  n_time: 10\n",
      "  method: Tangency\n"
     ]
    },
    {
     "name": "stderr",
     "output_type": "stream",
     "text": [
      "100%|██████████████████████████████████████████████████████████████████████████████████| 12/12 [00:22<00:00,  1.89s/it]\n"
     ]
    },
    {
     "name": "stdout",
     "output_type": "stream",
     "text": [
      "  with: factors\n",
      "  n_time: 12\n",
      "  method: GMV\n"
     ]
    },
    {
     "name": "stderr",
     "output_type": "stream",
     "text": [
      "100%|██████████████████████████████████████████████████████████████████████████████████| 12/12 [00:26<00:00,  2.26s/it]\n"
     ]
    },
    {
     "name": "stdout",
     "output_type": "stream",
     "text": [
      "  with: factors\n",
      "  n_time: 12\n",
      "  method: Tangency\n"
     ]
    },
    {
     "name": "stderr",
     "output_type": "stream",
     "text": [
      "100%|██████████████████████████████████████████████████████████████████████████████████| 12/12 [00:27<00:00,  2.37s/it]\n"
     ]
    },
    {
     "name": "stdout",
     "output_type": "stream",
     "text": [
      "  with: factors_residual\n",
      "  n_time: 6\n",
      "  method: GMV\n"
     ]
    },
    {
     "name": "stderr",
     "output_type": "stream",
     "text": [
      "100%|██████████████████████████████████████████████████████████████████████████████████| 12/12 [01:46<00:00,  8.90s/it]\n"
     ]
    },
    {
     "name": "stdout",
     "output_type": "stream",
     "text": [
      "  with: factors_residual\n",
      "  n_time: 6\n",
      "  method: Tangency\n"
     ]
    },
    {
     "name": "stderr",
     "output_type": "stream",
     "text": [
      "100%|██████████████████████████████████████████████████████████████████████████████████| 12/12 [01:48<00:00,  8.88s/it]\n"
     ]
    },
    {
     "name": "stdout",
     "output_type": "stream",
     "text": [
      "  with: factors_residual\n",
      "  n_time: 8\n",
      "  method: GMV\n"
     ]
    },
    {
     "name": "stderr",
     "output_type": "stream",
     "text": [
      "100%|██████████████████████████████████████████████████████████████████████████████████| 12/12 [01:55<00:00,  9.56s/it]\n"
     ]
    },
    {
     "name": "stdout",
     "output_type": "stream",
     "text": [
      "  with: factors_residual\n",
      "  n_time: 8\n",
      "  method: Tangency\n"
     ]
    },
    {
     "name": "stderr",
     "output_type": "stream",
     "text": [
      "100%|██████████████████████████████████████████████████████████████████████████████████| 12/12 [01:55<00:00,  9.55s/it]\n"
     ]
    },
    {
     "name": "stdout",
     "output_type": "stream",
     "text": [
      "  with: factors_residual\n",
      "  n_time: 10\n",
      "  method: GMV\n"
     ]
    },
    {
     "name": "stderr",
     "output_type": "stream",
     "text": [
      "100%|██████████████████████████████████████████████████████████████████████████████████| 12/12 [02:03<00:00, 10.27s/it]\n"
     ]
    },
    {
     "name": "stdout",
     "output_type": "stream",
     "text": [
      "  with: factors_residual\n",
      "  n_time: 10\n",
      "  method: Tangency\n"
     ]
    },
    {
     "name": "stderr",
     "output_type": "stream",
     "text": [
      "100%|██████████████████████████████████████████████████████████████████████████████████| 12/12 [02:04<00:00, 10.28s/it]\n"
     ]
    },
    {
     "name": "stdout",
     "output_type": "stream",
     "text": [
      "  with: factors_residual\n",
      "  n_time: 12\n",
      "  method: GMV\n"
     ]
    },
    {
     "name": "stderr",
     "output_type": "stream",
     "text": [
      "100%|██████████████████████████████████████████████████████████████████████████████████| 12/12 [02:12<00:00, 11.01s/it]\n"
     ]
    },
    {
     "name": "stdout",
     "output_type": "stream",
     "text": [
      "  with: factors_residual\n",
      "  n_time: 12\n",
      "  method: Tangency\n"
     ]
    },
    {
     "name": "stderr",
     "output_type": "stream",
     "text": [
      "100%|██████████████████████████████████████████████████████████████████████████████████| 12/12 [02:13<00:00, 11.22s/it]\n",
      "C:\\Users\\user\\Desktop\\clustering-based-stock-portfolio\\src\\portfolio.py:96: RuntimeWarning: invalid value encountered in sqrt\n",
      "  pr_sd = np.diag(np.sqrt(pr_tbl.iloc[:, 2:].cov()))\n"
     ]
    }
   ],
   "source": [
    "start_list = [\"2002-4\", \"2005-4\", \"2008-4\", \"2011-4\"]\n",
    "end_list = [\"2005-3\", \"2008-3\", \"2011-3\", \"2014-3\"]\n",
    "valid_res = []\n",
    "\n",
    "for st, en in zip(start_list, end_list):\n",
    "    valid_res.append(evaluate_portfolio(stock_tbl, kospi, risk_free, st, en,\n",
    "                                        with_list, n_time_list, method_list, \n",
    "                                        random_state=random_state))"
   ]
  },
  {
   "cell_type": "code",
   "execution_count": 9,
   "metadata": {},
   "outputs": [
    {
     "data": {
      "text/html": [
       "<div>\n",
       "<style scoped>\n",
       "    .dataframe tbody tr th:only-of-type {\n",
       "        vertical-align: middle;\n",
       "    }\n",
       "\n",
       "    .dataframe tbody tr th {\n",
       "        vertical-align: top;\n",
       "    }\n",
       "\n",
       "    .dataframe thead th {\n",
       "        text-align: right;\n",
       "    }\n",
       "</style>\n",
       "<table border=\"1\" class=\"dataframe\">\n",
       "  <thead>\n",
       "    <tr style=\"text-align: right;\">\n",
       "      <th></th>\n",
       "      <th>time</th>\n",
       "      <th>kospi</th>\n",
       "      <th>market_residual_6_GMV</th>\n",
       "      <th>market_residual_8_GMV</th>\n",
       "    </tr>\n",
       "  </thead>\n",
       "  <tbody>\n",
       "    <tr>\n",
       "      <th>0</th>\n",
       "      <td>2002-4</td>\n",
       "      <td>-0.043557</td>\n",
       "      <td>-0.182029</td>\n",
       "      <td>-0.168141</td>\n",
       "    </tr>\n",
       "    <tr>\n",
       "      <th>1</th>\n",
       "      <td>2003-1</td>\n",
       "      <td>-0.166381</td>\n",
       "      <td>0.150088</td>\n",
       "      <td>0.133076</td>\n",
       "    </tr>\n",
       "    <tr>\n",
       "      <th>2</th>\n",
       "      <td>2003-2</td>\n",
       "      <td>0.110888</td>\n",
       "      <td>0.033397</td>\n",
       "      <td>0.123056</td>\n",
       "    </tr>\n",
       "    <tr>\n",
       "      <th>3</th>\n",
       "      <td>2003-3</td>\n",
       "      <td>0.131688</td>\n",
       "      <td>0.120947</td>\n",
       "      <td>0.070731</td>\n",
       "    </tr>\n",
       "    <tr>\n",
       "      <th>4</th>\n",
       "      <td>2003-4</td>\n",
       "      <td>0.096017</td>\n",
       "      <td>0.013463</td>\n",
       "      <td>0.015975</td>\n",
       "    </tr>\n",
       "  </tbody>\n",
       "</table>\n",
       "</div>"
      ],
      "text/plain": [
       "     time     kospi  market_residual_6_GMV  market_residual_8_GMV\n",
       "0  2002-4 -0.043557              -0.182029              -0.168141\n",
       "1  2003-1 -0.166381               0.150088               0.133076\n",
       "2  2003-2  0.110888               0.033397               0.123056\n",
       "3  2003-3  0.131688               0.120947               0.070731\n",
       "4  2003-4  0.096017               0.013463               0.015975"
      ]
     },
     "execution_count": 9,
     "metadata": {},
     "output_type": "execute_result"
    }
   ],
   "source": [
    "valid_res[0][\"return\"].head()"
   ]
  },
  {
   "cell_type": "code",
   "execution_count": 11,
   "metadata": {},
   "outputs": [
    {
     "data": {
      "text/html": [
       "<div>\n",
       "<style scoped>\n",
       "    .dataframe tbody tr th:only-of-type {\n",
       "        vertical-align: middle;\n",
       "    }\n",
       "\n",
       "    .dataframe tbody tr th {\n",
       "        vertical-align: top;\n",
       "    }\n",
       "\n",
       "    .dataframe thead th {\n",
       "        text-align: right;\n",
       "    }\n",
       "</style>\n",
       "<table border=\"1\" class=\"dataframe\">\n",
       "  <thead>\n",
       "    <tr style=\"text-align: right;\">\n",
       "      <th></th>\n",
       "      <th>with</th>\n",
       "      <th>n_time</th>\n",
       "      <th>method</th>\n",
       "      <th>cumsum</th>\n",
       "      <th>sd</th>\n",
       "      <th>info_r</th>\n",
       "    </tr>\n",
       "  </thead>\n",
       "  <tbody>\n",
       "    <tr>\n",
       "      <th>market_residual_6_GMV</th>\n",
       "      <td>market_residual</td>\n",
       "      <td>6</td>\n",
       "      <td>GMV</td>\n",
       "      <td>0.683359</td>\n",
       "      <td>0.095750</td>\n",
       "      <td>0.127044</td>\n",
       "    </tr>\n",
       "    <tr>\n",
       "      <th>market_residual_8_GMV</th>\n",
       "      <td>market_residual</td>\n",
       "      <td>8</td>\n",
       "      <td>GMV</td>\n",
       "      <td>0.496945</td>\n",
       "      <td>0.098431</td>\n",
       "      <td>0.006877</td>\n",
       "    </tr>\n",
       "  </tbody>\n",
       "</table>\n",
       "</div>"
      ],
      "text/plain": [
       "                                  with  n_time method    cumsum        sd  \\\n",
       "market_residual_6_GMV  market_residual       6    GMV  0.683359  0.095750   \n",
       "market_residual_8_GMV  market_residual       8    GMV  0.496945  0.098431   \n",
       "\n",
       "                         info_r  \n",
       "market_residual_6_GMV  0.127044  \n",
       "market_residual_8_GMV  0.006877  "
      ]
     },
     "execution_count": 11,
     "metadata": {},
     "output_type": "execute_result"
    }
   ],
   "source": [
    "valid_res[0][\"summary\"]"
   ]
  },
  {
   "cell_type": "markdown",
   "metadata": {},
   "source": [
    "### Test period"
   ]
  },
  {
   "cell_type": "code",
   "execution_count": 55,
   "metadata": {},
   "outputs": [
    {
     "name": "stdout",
     "output_type": "stream",
     "text": [
      "from 2014-4 to 2017-3\n",
      "  with: return\n",
      "  n_time: 6\n",
      "  method: GMV\n"
     ]
    },
    {
     "name": "stderr",
     "output_type": "stream",
     "text": [
      "100%|██████████████████████████████████████████████████████████████████████████████████| 12/12 [00:25<00:00,  2.13s/it]\n"
     ]
    },
    {
     "name": "stdout",
     "output_type": "stream",
     "text": [
      "  with: return\n",
      "  n_time: 6\n",
      "  method: Tangency\n"
     ]
    },
    {
     "name": "stderr",
     "output_type": "stream",
     "text": [
      "100%|██████████████████████████████████████████████████████████████████████████████████| 12/12 [00:26<00:00,  2.19s/it]\n"
     ]
    },
    {
     "name": "stdout",
     "output_type": "stream",
     "text": [
      "  with: return\n",
      "  n_time: 8\n",
      "  method: GMV\n"
     ]
    },
    {
     "name": "stderr",
     "output_type": "stream",
     "text": [
      "100%|██████████████████████████████████████████████████████████████████████████████████| 12/12 [00:33<00:00,  2.80s/it]\n"
     ]
    },
    {
     "name": "stdout",
     "output_type": "stream",
     "text": [
      "  with: return\n",
      "  n_time: 8\n",
      "  method: Tangency\n"
     ]
    },
    {
     "name": "stderr",
     "output_type": "stream",
     "text": [
      "100%|██████████████████████████████████████████████████████████████████████████████████| 12/12 [00:34<00:00,  2.99s/it]\n"
     ]
    },
    {
     "name": "stdout",
     "output_type": "stream",
     "text": [
      "  with: return\n",
      "  n_time: 10\n",
      "  method: GMV\n"
     ]
    },
    {
     "name": "stderr",
     "output_type": "stream",
     "text": [
      "100%|██████████████████████████████████████████████████████████████████████████████████| 12/12 [00:41<00:00,  3.47s/it]\n"
     ]
    },
    {
     "name": "stdout",
     "output_type": "stream",
     "text": [
      "  with: return\n",
      "  n_time: 10\n",
      "  method: Tangency\n"
     ]
    },
    {
     "name": "stderr",
     "output_type": "stream",
     "text": [
      "100%|██████████████████████████████████████████████████████████████████████████████████| 12/12 [00:41<00:00,  3.44s/it]\n"
     ]
    },
    {
     "name": "stdout",
     "output_type": "stream",
     "text": [
      "  with: return\n",
      "  n_time: 12\n",
      "  method: GMV\n"
     ]
    },
    {
     "name": "stderr",
     "output_type": "stream",
     "text": [
      "100%|██████████████████████████████████████████████████████████████████████████████████| 12/12 [00:50<00:00,  4.24s/it]\n"
     ]
    },
    {
     "name": "stdout",
     "output_type": "stream",
     "text": [
      "  with: return\n",
      "  n_time: 12\n",
      "  method: Tangency\n"
     ]
    },
    {
     "name": "stderr",
     "output_type": "stream",
     "text": [
      "100%|██████████████████████████████████████████████████████████████████████████████████| 12/12 [00:49<00:00,  4.16s/it]\n"
     ]
    },
    {
     "name": "stdout",
     "output_type": "stream",
     "text": [
      "  with: market_residual\n",
      "  n_time: 6\n",
      "  method: GMV\n"
     ]
    },
    {
     "name": "stderr",
     "output_type": "stream",
     "text": [
      "100%|██████████████████████████████████████████████████████████████████████████████████| 12/12 [01:24<00:00,  7.03s/it]\n"
     ]
    },
    {
     "name": "stdout",
     "output_type": "stream",
     "text": [
      "  with: market_residual\n",
      "  n_time: 6\n",
      "  method: Tangency\n"
     ]
    },
    {
     "name": "stderr",
     "output_type": "stream",
     "text": [
      "100%|██████████████████████████████████████████████████████████████████████████████████| 12/12 [01:23<00:00,  6.96s/it]\n"
     ]
    },
    {
     "name": "stdout",
     "output_type": "stream",
     "text": [
      "  with: market_residual\n",
      "  n_time: 8\n",
      "  method: GMV\n"
     ]
    },
    {
     "name": "stderr",
     "output_type": "stream",
     "text": [
      "100%|██████████████████████████████████████████████████████████████████████████████████| 12/12 [01:33<00:00,  7.70s/it]\n"
     ]
    },
    {
     "name": "stdout",
     "output_type": "stream",
     "text": [
      "  with: market_residual\n",
      "  n_time: 8\n",
      "  method: Tangency\n"
     ]
    },
    {
     "name": "stderr",
     "output_type": "stream",
     "text": [
      "100%|██████████████████████████████████████████████████████████████████████████████████| 12/12 [01:36<00:00,  8.39s/it]\n"
     ]
    },
    {
     "name": "stdout",
     "output_type": "stream",
     "text": [
      "  with: market_residual\n",
      "  n_time: 10\n",
      "  method: GMV\n"
     ]
    },
    {
     "name": "stderr",
     "output_type": "stream",
     "text": [
      "100%|██████████████████████████████████████████████████████████████████████████████████| 12/12 [01:41<00:00,  8.45s/it]\n"
     ]
    },
    {
     "name": "stdout",
     "output_type": "stream",
     "text": [
      "  with: market_residual\n",
      "  n_time: 10\n",
      "  method: Tangency\n"
     ]
    },
    {
     "name": "stderr",
     "output_type": "stream",
     "text": [
      "100%|██████████████████████████████████████████████████████████████████████████████████| 12/12 [01:41<00:00,  8.49s/it]\n"
     ]
    },
    {
     "name": "stdout",
     "output_type": "stream",
     "text": [
      "  with: market_residual\n",
      "  n_time: 12\n",
      "  method: GMV\n"
     ]
    },
    {
     "name": "stderr",
     "output_type": "stream",
     "text": [
      "100%|██████████████████████████████████████████████████████████████████████████████████| 12/12 [01:50<00:00,  9.26s/it]\n"
     ]
    },
    {
     "name": "stdout",
     "output_type": "stream",
     "text": [
      "  with: market_residual\n",
      "  n_time: 12\n",
      "  method: Tangency\n"
     ]
    },
    {
     "name": "stderr",
     "output_type": "stream",
     "text": [
      "100%|██████████████████████████████████████████████████████████████████████████████████| 12/12 [01:50<00:00,  9.32s/it]\n"
     ]
    },
    {
     "name": "stdout",
     "output_type": "stream",
     "text": [
      "  with: factors\n",
      "  n_time: 6\n",
      "  method: GMV\n"
     ]
    },
    {
     "name": "stderr",
     "output_type": "stream",
     "text": [
      "100%|██████████████████████████████████████████████████████████████████████████████████| 12/12 [00:15<00:00,  1.34s/it]\n"
     ]
    },
    {
     "name": "stdout",
     "output_type": "stream",
     "text": [
      "  with: factors\n",
      "  n_time: 6\n",
      "  method: Tangency\n"
     ]
    },
    {
     "name": "stderr",
     "output_type": "stream",
     "text": [
      "100%|██████████████████████████████████████████████████████████████████████████████████| 12/12 [00:15<00:00,  1.35s/it]\n"
     ]
    },
    {
     "name": "stdout",
     "output_type": "stream",
     "text": [
      "  with: factors\n",
      "  n_time: 8\n",
      "  method: GMV\n"
     ]
    },
    {
     "name": "stderr",
     "output_type": "stream",
     "text": [
      "100%|██████████████████████████████████████████████████████████████████████████████████| 12/12 [00:19<00:00,  1.71s/it]\n"
     ]
    },
    {
     "name": "stdout",
     "output_type": "stream",
     "text": [
      "  with: factors\n",
      "  n_time: 8\n",
      "  method: Tangency\n"
     ]
    },
    {
     "name": "stderr",
     "output_type": "stream",
     "text": [
      "100%|██████████████████████████████████████████████████████████████████████████████████| 12/12 [00:19<00:00,  1.72s/it]\n"
     ]
    },
    {
     "name": "stdout",
     "output_type": "stream",
     "text": [
      "  with: factors\n",
      "  n_time: 10\n",
      "  method: GMV\n"
     ]
    },
    {
     "name": "stderr",
     "output_type": "stream",
     "text": [
      "100%|██████████████████████████████████████████████████████████████████████████████████| 12/12 [00:24<00:00,  2.10s/it]\n"
     ]
    },
    {
     "name": "stdout",
     "output_type": "stream",
     "text": [
      "  with: factors\n",
      "  n_time: 10\n",
      "  method: Tangency\n"
     ]
    },
    {
     "name": "stderr",
     "output_type": "stream",
     "text": [
      "100%|██████████████████████████████████████████████████████████████████████████████████| 12/12 [00:25<00:00,  2.14s/it]\n"
     ]
    },
    {
     "name": "stdout",
     "output_type": "stream",
     "text": [
      "  with: factors\n",
      "  n_time: 12\n",
      "  method: GMV\n"
     ]
    },
    {
     "name": "stderr",
     "output_type": "stream",
     "text": [
      "100%|██████████████████████████████████████████████████████████████████████████████████| 12/12 [00:28<00:00,  2.48s/it]\n"
     ]
    },
    {
     "name": "stdout",
     "output_type": "stream",
     "text": [
      "  with: factors\n",
      "  n_time: 12\n",
      "  method: Tangency\n"
     ]
    },
    {
     "name": "stderr",
     "output_type": "stream",
     "text": [
      "100%|██████████████████████████████████████████████████████████████████████████████████| 12/12 [00:28<00:00,  2.48s/it]\n"
     ]
    },
    {
     "name": "stdout",
     "output_type": "stream",
     "text": [
      "  with: factors_residual\n",
      "  n_time: 6\n",
      "  method: GMV\n"
     ]
    },
    {
     "name": "stderr",
     "output_type": "stream",
     "text": [
      "100%|██████████████████████████████████████████████████████████████████████████████████| 12/12 [01:47<00:00,  8.90s/it]\n"
     ]
    },
    {
     "name": "stdout",
     "output_type": "stream",
     "text": [
      "  with: factors_residual\n",
      "  n_time: 6\n",
      "  method: Tangency\n"
     ]
    },
    {
     "name": "stderr",
     "output_type": "stream",
     "text": [
      "100%|██████████████████████████████████████████████████████████████████████████████████| 12/12 [01:46<00:00,  8.90s/it]\n"
     ]
    },
    {
     "name": "stdout",
     "output_type": "stream",
     "text": [
      "  with: factors_residual\n",
      "  n_time: 8\n",
      "  method: GMV\n"
     ]
    },
    {
     "name": "stderr",
     "output_type": "stream",
     "text": [
      "100%|██████████████████████████████████████████████████████████████████████████████████| 12/12 [01:55<00:00,  9.68s/it]\n"
     ]
    },
    {
     "name": "stdout",
     "output_type": "stream",
     "text": [
      "  with: factors_residual\n",
      "  n_time: 8\n",
      "  method: Tangency\n"
     ]
    },
    {
     "name": "stderr",
     "output_type": "stream",
     "text": [
      "100%|██████████████████████████████████████████████████████████████████████████████████| 12/12 [01:55<00:00,  9.68s/it]\n"
     ]
    },
    {
     "name": "stdout",
     "output_type": "stream",
     "text": [
      "  with: factors_residual\n",
      "  n_time: 10\n",
      "  method: GMV\n"
     ]
    },
    {
     "name": "stderr",
     "output_type": "stream",
     "text": [
      "100%|██████████████████████████████████████████████████████████████████████████████████| 12/12 [02:05<00:00, 10.76s/it]\n"
     ]
    },
    {
     "name": "stdout",
     "output_type": "stream",
     "text": [
      "  with: factors_residual\n",
      "  n_time: 10\n",
      "  method: Tangency\n"
     ]
    },
    {
     "name": "stderr",
     "output_type": "stream",
     "text": [
      "100%|██████████████████████████████████████████████████████████████████████████████████| 12/12 [02:05<00:00, 10.38s/it]\n"
     ]
    },
    {
     "name": "stdout",
     "output_type": "stream",
     "text": [
      "  with: factors_residual\n",
      "  n_time: 12\n",
      "  method: GMV\n"
     ]
    },
    {
     "name": "stderr",
     "output_type": "stream",
     "text": [
      "100%|██████████████████████████████████████████████████████████████████████████████████| 12/12 [02:16<00:00, 11.57s/it]\n"
     ]
    },
    {
     "name": "stdout",
     "output_type": "stream",
     "text": [
      "  with: factors_residual\n",
      "  n_time: 12\n",
      "  method: Tangency\n"
     ]
    },
    {
     "name": "stderr",
     "output_type": "stream",
     "text": [
      "100%|██████████████████████████████████████████████████████████████████████████████████| 12/12 [02:13<00:00, 11.05s/it]\n",
      "C:\\Users\\user\\Desktop\\clustering-based-stock-portfolio\\src\\portfolio.py:96: RuntimeWarning: invalid value encountered in sqrt\n",
      "  pr_sd = np.diag(np.sqrt(pr_tbl.iloc[:, 2:].cov()))\n"
     ]
    }
   ],
   "source": [
    "start = \"2014-4\"\n",
    "end = \"2017-3\"\n",
    "\n",
    "test_res = evaluate_portfolio(stock_tbl, kospi, risk_free, start, end,\n",
    "                              with_list, n_time_list, method_list)"
   ]
  },
  {
   "cell_type": "markdown",
   "metadata": {},
   "source": [
    "### Save results"
   ]
  },
  {
   "cell_type": "code",
   "execution_count": 56,
   "metadata": {},
   "outputs": [],
   "source": [
    "import os\n",
    "import pickle"
   ]
  },
  {
   "cell_type": "code",
   "execution_count": 57,
   "metadata": {},
   "outputs": [
    {
     "name": "stdout",
     "output_type": "stream",
     "text": [
      "outputs directory already exists\n"
     ]
    }
   ],
   "source": [
    "try:\n",
    "    os.mkdir(\"outputs\")\n",
    "except OSError:\n",
    "    print(\"outputs directory already exists\")"
   ]
  },
  {
   "cell_type": "code",
   "execution_count": 58,
   "metadata": {},
   "outputs": [],
   "source": [
    "with open(\"outputs/valid_res_list.pickle\", \"wb\") as wb:\n",
    "    pickle.dump(valid_res, wb)\n",
    "with open(\"outputs/test_res.pickle\", \"wb\") as wb:\n",
    "    pickle.dump(test_res, wb)"
   ]
  },
  {
   "cell_type": "code",
   "execution_count": 59,
   "metadata": {},
   "outputs": [
    {
     "data": {
      "text/plain": [
       "datetime.datetime(2019, 5, 22, 21, 1, 12, 977914)"
      ]
     },
     "execution_count": 59,
     "metadata": {},
     "output_type": "execute_result"
    }
   ],
   "source": [
    "import datetime\n",
    "datetime.datetime.now()"
   ]
  },
  {
   "cell_type": "code",
   "execution_count": null,
   "metadata": {},
   "outputs": [],
   "source": []
  },
  {
   "cell_type": "markdown",
   "metadata": {},
   "source": [
    "---"
   ]
  },
  {
   "cell_type": "markdown",
   "metadata": {},
   "source": [
    "## 03. Analysis\n",
    "### `scripts/03_analysis.R` $\\rightarrow$ `scripts/analysis.py`"
   ]
  },
  {
   "cell_type": "code",
   "execution_count": 61,
   "metadata": {},
   "outputs": [],
   "source": [
    "with open(\"outputs/valid_res_list.pickle\", \"rb\") as rb:\n",
    "    valid_res = pickle.load(rb)\n",
    "with open(\"outputs/test_res.pickle\", \"rb\") as rb:\n",
    "    test_res = pickle.load(rb)"
   ]
  },
  {
   "cell_type": "code",
   "execution_count": 62,
   "metadata": {},
   "outputs": [],
   "source": [
    "kospi = pd.read_csv(\"data/processed/kospi.csv\")"
   ]
  },
  {
   "cell_type": "code",
   "execution_count": 63,
   "metadata": {},
   "outputs": [
    {
     "data": {
      "text/html": [
       "<div>\n",
       "<style scoped>\n",
       "    .dataframe tbody tr th:only-of-type {\n",
       "        vertical-align: middle;\n",
       "    }\n",
       "\n",
       "    .dataframe tbody tr th {\n",
       "        vertical-align: top;\n",
       "    }\n",
       "\n",
       "    .dataframe thead th {\n",
       "        text-align: right;\n",
       "    }\n",
       "</style>\n",
       "<table border=\"1\" class=\"dataframe\">\n",
       "  <thead>\n",
       "    <tr style=\"text-align: right;\">\n",
       "      <th></th>\n",
       "      <th>time</th>\n",
       "      <th>logret</th>\n",
       "    </tr>\n",
       "  </thead>\n",
       "  <tbody>\n",
       "    <tr>\n",
       "      <th>0</th>\n",
       "      <td>1997-1</td>\n",
       "      <td>NaN</td>\n",
       "    </tr>\n",
       "    <tr>\n",
       "      <th>1</th>\n",
       "      <td>1997-2</td>\n",
       "      <td>0.078101</td>\n",
       "    </tr>\n",
       "    <tr>\n",
       "      <th>2</th>\n",
       "      <td>1997-3</td>\n",
       "      <td>-0.064037</td>\n",
       "    </tr>\n",
       "    <tr>\n",
       "      <th>3</th>\n",
       "      <td>1997-4</td>\n",
       "      <td>-0.499768</td>\n",
       "    </tr>\n",
       "    <tr>\n",
       "      <th>4</th>\n",
       "      <td>1998-1</td>\n",
       "      <td>0.247514</td>\n",
       "    </tr>\n",
       "  </tbody>\n",
       "</table>\n",
       "</div>"
      ],
      "text/plain": [
       "     time    logret\n",
       "0  1997-1       NaN\n",
       "1  1997-2  0.078101\n",
       "2  1997-3 -0.064037\n",
       "3  1997-4 -0.499768\n",
       "4  1998-1  0.247514"
      ]
     },
     "execution_count": 63,
     "metadata": {},
     "output_type": "execute_result"
    }
   ],
   "source": [
    "kospi.head()"
   ]
  },
  {
   "cell_type": "markdown",
   "metadata": {},
   "source": [
    "### Summary of `[\"result\"]`"
   ]
  },
  {
   "cell_type": "code",
   "execution_count": 64,
   "metadata": {},
   "outputs": [],
   "source": [
    "def select_model(valid_res_return):\n",
    "    valid_res_return = valid_res_return.loc[:, [\"time\", \"kospi\", \"factors_8_GMV\", \"factors_8_Tangency\"]]\n",
    "    valid_res_return.columns = [\"time\", \"kospi\", \"GMV\", \"Tangency\"]\n",
    "    return valid_res_return"
   ]
  },
  {
   "cell_type": "code",
   "execution_count": 65,
   "metadata": {},
   "outputs": [],
   "source": [
    "def summarize_sd(selected):\n",
    "    return selected.std()"
   ]
  },
  {
   "cell_type": "markdown",
   "metadata": {},
   "source": [
    "**1) Summary of validation results**"
   ]
  },
  {
   "cell_type": "code",
   "execution_count": 101,
   "metadata": {},
   "outputs": [],
   "source": [
    "sd_summ = None\n",
    "for i in range(len(valid_res)):\n",
    "    newline = select_model(valid_res[i][\"return\"]).std()\n",
    "    sd_summ = pd.concat([sd_summ, newline], axis=1) if sd_summ is not None else newline\n",
    "sd_summ = sd_summ.T"
   ]
  },
  {
   "cell_type": "code",
   "execution_count": 102,
   "metadata": {},
   "outputs": [
    {
     "data": {
      "text/html": [
       "<div>\n",
       "<style scoped>\n",
       "    .dataframe tbody tr th:only-of-type {\n",
       "        vertical-align: middle;\n",
       "    }\n",
       "\n",
       "    .dataframe tbody tr th {\n",
       "        vertical-align: top;\n",
       "    }\n",
       "\n",
       "    .dataframe thead th {\n",
       "        text-align: right;\n",
       "    }\n",
       "</style>\n",
       "<table border=\"1\" class=\"dataframe\">\n",
       "  <thead>\n",
       "    <tr style=\"text-align: right;\">\n",
       "      <th></th>\n",
       "      <th>kospi</th>\n",
       "      <th>GMV</th>\n",
       "      <th>Tangency</th>\n",
       "    </tr>\n",
       "  </thead>\n",
       "  <tbody>\n",
       "    <tr>\n",
       "      <th>0</th>\n",
       "      <td>0.100272</td>\n",
       "      <td>0.100403</td>\n",
       "      <td>0.124856</td>\n",
       "    </tr>\n",
       "    <tr>\n",
       "      <th>1</th>\n",
       "      <td>0.104019</td>\n",
       "      <td>0.113553</td>\n",
       "      <td>0.152245</td>\n",
       "    </tr>\n",
       "    <tr>\n",
       "      <th>0</th>\n",
       "      <td>0.127488</td>\n",
       "      <td>0.071997</td>\n",
       "      <td>0.074054</td>\n",
       "    </tr>\n",
       "    <tr>\n",
       "      <th>0</th>\n",
       "      <td>0.036766</td>\n",
       "      <td>0.046499</td>\n",
       "      <td>0.238077</td>\n",
       "    </tr>\n",
       "  </tbody>\n",
       "</table>\n",
       "</div>"
      ],
      "text/plain": [
       "      kospi       GMV  Tangency\n",
       "0  0.100272  0.100403  0.124856\n",
       "1  0.104019  0.113553  0.152245\n",
       "0  0.127488  0.071997  0.074054\n",
       "0  0.036766  0.046499  0.238077"
      ]
     },
     "execution_count": 102,
     "metadata": {},
     "output_type": "execute_result"
    }
   ],
   "source": [
    "sd_summ"
   ]
  },
  {
   "cell_type": "code",
   "execution_count": 103,
   "metadata": {},
   "outputs": [],
   "source": [
    "sd_summ.to_csv(\"outputs/sd_summ2.csv\", index=False)"
   ]
  },
  {
   "cell_type": "markdown",
   "metadata": {},
   "source": [
    "**2) Summary of test result**"
   ]
  },
  {
   "cell_type": "code",
   "execution_count": 108,
   "metadata": {},
   "outputs": [
    {
     "data": {
      "text/plain": [
       "kospi       0.044938\n",
       "GMV         0.045417\n",
       "Tangency    0.063051\n",
       "dtype: float64"
      ]
     },
     "execution_count": 108,
     "metadata": {},
     "output_type": "execute_result"
    }
   ],
   "source": [
    "summarize_sd(select_model(test_res[\"return\"]))"
   ]
  },
  {
   "cell_type": "markdown",
   "metadata": {},
   "source": [
    "### Summary of `[\"summary\"]`"
   ]
  },
  {
   "cell_type": "code",
   "execution_count": 148,
   "metadata": {},
   "outputs": [],
   "source": [
    "def method_avg(x):\n",
    "    n = x.shape[0]\n",
    "    y = pd.DataFrame(x.loc[:, [\"cumsum\", \"sd\", \"info_r\"]] \\\n",
    "                      .to_numpy() \\\n",
    "                      .reshape(2, -1, order=\"F\") \\\n",
    "                      .mean(axis=0) \\\n",
    "                      .reshape(n//2, -1, order=\"F\") \\\n",
    "                      .round(3))\n",
    "    y.columns = [\"cumsum\", \"sd\", \"info_r\"]\n",
    "    \n",
    "    return pd.concat([x.loc[:, [\"with\", \"n_time\"]] \\\n",
    "                       .drop_duplicates() \\\n",
    "                       .reset_index(drop=True), y], axis=1)"
   ]
  },
  {
   "cell_type": "markdown",
   "metadata": {},
   "source": [
    "**1) Summary of validation results**"
   ]
  },
  {
   "cell_type": "code",
   "execution_count": 154,
   "metadata": {},
   "outputs": [],
   "source": [
    "from functools import reduce"
   ]
  },
  {
   "cell_type": "code",
   "execution_count": 194,
   "metadata": {
    "scrolled": true
   },
   "outputs": [
    {
     "name": "stderr",
     "output_type": "stream",
     "text": [
      "C:\\Users\\user\\Anaconda3\\lib\\site-packages\\ipykernel_launcher.py:2: FutureWarning: arrays to stack must be passed as a \"sequence\" type such as list or tuple. Support for non-sequence iterables such as generators is deprecated as of NumPy 1.16 and will raise an error in the future.\n",
      "  \n"
     ]
    }
   ],
   "source": [
    "summ_list = np.dstack(map(lambda x: x[\"summary\"].loc[:, [\"cumsum\", \"sd\", \"info_r\"]] \\\n",
    "                                                .to_numpy(), valid_res)).sum(axis=2)"
   ]
  },
  {
   "cell_type": "code",
   "execution_count": 198,
   "metadata": {},
   "outputs": [],
   "source": [
    "summ_list = summ_list / len(valid_res)\n",
    "summ_list = pd.DataFrame(summ_list, columns=[\"cumsum\", \"sd\", \"info_r\"])"
   ]
  },
  {
   "cell_type": "code",
   "execution_count": 213,
   "metadata": {
    "scrolled": false
   },
   "outputs": [],
   "source": [
    "valid_summ = method_avg(pd.concat([valid_res[0][\"summary\"].loc[:, [\"with\", \"n_time\", \"method\"]].reset_index(drop=True), summ_list], axis=1))\n",
    "valid_summ[\"rank\"] = np.argsort(-valid_summ.info_r) + 1"
   ]
  },
  {
   "cell_type": "code",
   "execution_count": 214,
   "metadata": {},
   "outputs": [
    {
     "data": {
      "text/html": [
       "<div>\n",
       "<style scoped>\n",
       "    .dataframe tbody tr th:only-of-type {\n",
       "        vertical-align: middle;\n",
       "    }\n",
       "\n",
       "    .dataframe tbody tr th {\n",
       "        vertical-align: top;\n",
       "    }\n",
       "\n",
       "    .dataframe thead th {\n",
       "        text-align: right;\n",
       "    }\n",
       "</style>\n",
       "<table border=\"1\" class=\"dataframe\">\n",
       "  <thead>\n",
       "    <tr style=\"text-align: right;\">\n",
       "      <th></th>\n",
       "      <th>with</th>\n",
       "      <th>n_time</th>\n",
       "      <th>cumsum</th>\n",
       "      <th>sd</th>\n",
       "      <th>info_r</th>\n",
       "      <th>rank</th>\n",
       "    </tr>\n",
       "  </thead>\n",
       "  <tbody>\n",
       "    <tr>\n",
       "      <th>0</th>\n",
       "      <td>factors</td>\n",
       "      <td>6</td>\n",
       "      <td>0.100</td>\n",
       "      <td>0.027</td>\n",
       "      <td>0.024</td>\n",
       "      <td>10</td>\n",
       "    </tr>\n",
       "    <tr>\n",
       "      <th>1</th>\n",
       "      <td>factors</td>\n",
       "      <td>8</td>\n",
       "      <td>0.096</td>\n",
       "      <td>0.029</td>\n",
       "      <td>0.016</td>\n",
       "      <td>1</td>\n",
       "    </tr>\n",
       "    <tr>\n",
       "      <th>2</th>\n",
       "      <td>factors</td>\n",
       "      <td>10</td>\n",
       "      <td>0.000</td>\n",
       "      <td>0.038</td>\n",
       "      <td>-0.011</td>\n",
       "      <td>6</td>\n",
       "    </tr>\n",
       "    <tr>\n",
       "      <th>3</th>\n",
       "      <td>factors</td>\n",
       "      <td>12</td>\n",
       "      <td>0.069</td>\n",
       "      <td>0.024</td>\n",
       "      <td>0.002</td>\n",
       "      <td>14</td>\n",
       "    </tr>\n",
       "    <tr>\n",
       "      <th>4</th>\n",
       "      <td>factors_residual</td>\n",
       "      <td>6</td>\n",
       "      <td>0.098</td>\n",
       "      <td>0.027</td>\n",
       "      <td>0.021</td>\n",
       "      <td>5</td>\n",
       "    </tr>\n",
       "    <tr>\n",
       "      <th>5</th>\n",
       "      <td>factors_residual</td>\n",
       "      <td>8</td>\n",
       "      <td>0.110</td>\n",
       "      <td>0.029</td>\n",
       "      <td>0.024</td>\n",
       "      <td>9</td>\n",
       "    </tr>\n",
       "    <tr>\n",
       "      <th>6</th>\n",
       "      <td>factors_residual</td>\n",
       "      <td>10</td>\n",
       "      <td>0.036</td>\n",
       "      <td>0.035</td>\n",
       "      <td>0.002</td>\n",
       "      <td>2</td>\n",
       "    </tr>\n",
       "    <tr>\n",
       "      <th>7</th>\n",
       "      <td>factors_residual</td>\n",
       "      <td>12</td>\n",
       "      <td>0.073</td>\n",
       "      <td>0.024</td>\n",
       "      <td>0.005</td>\n",
       "      <td>11</td>\n",
       "    </tr>\n",
       "    <tr>\n",
       "      <th>8</th>\n",
       "      <td>market_residual</td>\n",
       "      <td>6</td>\n",
       "      <td>0.092</td>\n",
       "      <td>0.022</td>\n",
       "      <td>0.019</td>\n",
       "      <td>12</td>\n",
       "    </tr>\n",
       "    <tr>\n",
       "      <th>9</th>\n",
       "      <td>market_residual</td>\n",
       "      <td>8</td>\n",
       "      <td>0.101</td>\n",
       "      <td>0.022</td>\n",
       "      <td>0.026</td>\n",
       "      <td>13</td>\n",
       "    </tr>\n",
       "    <tr>\n",
       "      <th>10</th>\n",
       "      <td>market_residual</td>\n",
       "      <td>10</td>\n",
       "      <td>0.082</td>\n",
       "      <td>0.023</td>\n",
       "      <td>0.016</td>\n",
       "      <td>8</td>\n",
       "    </tr>\n",
       "    <tr>\n",
       "      <th>11</th>\n",
       "      <td>market_residual</td>\n",
       "      <td>12</td>\n",
       "      <td>0.083</td>\n",
       "      <td>0.022</td>\n",
       "      <td>0.014</td>\n",
       "      <td>15</td>\n",
       "    </tr>\n",
       "    <tr>\n",
       "      <th>12</th>\n",
       "      <td>return</td>\n",
       "      <td>6</td>\n",
       "      <td>0.146</td>\n",
       "      <td>0.052</td>\n",
       "      <td>0.006</td>\n",
       "      <td>4</td>\n",
       "    </tr>\n",
       "    <tr>\n",
       "      <th>13</th>\n",
       "      <td>return</td>\n",
       "      <td>8</td>\n",
       "      <td>0.135</td>\n",
       "      <td>0.053</td>\n",
       "      <td>0.024</td>\n",
       "      <td>7</td>\n",
       "    </tr>\n",
       "    <tr>\n",
       "      <th>14</th>\n",
       "      <td>return</td>\n",
       "      <td>10</td>\n",
       "      <td>0.062</td>\n",
       "      <td>0.045</td>\n",
       "      <td>0.005</td>\n",
       "      <td>16</td>\n",
       "    </tr>\n",
       "    <tr>\n",
       "      <th>15</th>\n",
       "      <td>return</td>\n",
       "      <td>12</td>\n",
       "      <td>0.023</td>\n",
       "      <td>0.037</td>\n",
       "      <td>0.002</td>\n",
       "      <td>3</td>\n",
       "    </tr>\n",
       "  </tbody>\n",
       "</table>\n",
       "</div>"
      ],
      "text/plain": [
       "                with  n_time  cumsum     sd  info_r  rank\n",
       "0            factors       6   0.100  0.027   0.024    10\n",
       "1            factors       8   0.096  0.029   0.016     1\n",
       "2            factors      10   0.000  0.038  -0.011     6\n",
       "3            factors      12   0.069  0.024   0.002    14\n",
       "4   factors_residual       6   0.098  0.027   0.021     5\n",
       "5   factors_residual       8   0.110  0.029   0.024     9\n",
       "6   factors_residual      10   0.036  0.035   0.002     2\n",
       "7   factors_residual      12   0.073  0.024   0.005    11\n",
       "8    market_residual       6   0.092  0.022   0.019    12\n",
       "9    market_residual       8   0.101  0.022   0.026    13\n",
       "10   market_residual      10   0.082  0.023   0.016     8\n",
       "11   market_residual      12   0.083  0.022   0.014    15\n",
       "12            return       6   0.146  0.052   0.006     4\n",
       "13            return       8   0.135  0.053   0.024     7\n",
       "14            return      10   0.062  0.045   0.005    16\n",
       "15            return      12   0.023  0.037   0.002     3"
      ]
     },
     "execution_count": 214,
     "metadata": {},
     "output_type": "execute_result"
    }
   ],
   "source": [
    "valid_summ"
   ]
  },
  {
   "cell_type": "markdown",
   "metadata": {},
   "source": [
    "**2) Summary of test result**"
   ]
  },
  {
   "cell_type": "code",
   "execution_count": 215,
   "metadata": {},
   "outputs": [],
   "source": [
    "test_summ = method_avg(test_res[\"summary\"])\n",
    "test_summ[\"rank\"] = np.argsort(-test_summ.info_r) + 1"
   ]
  },
  {
   "cell_type": "code",
   "execution_count": 216,
   "metadata": {},
   "outputs": [
    {
     "data": {
      "text/html": [
       "<div>\n",
       "<style scoped>\n",
       "    .dataframe tbody tr th:only-of-type {\n",
       "        vertical-align: middle;\n",
       "    }\n",
       "\n",
       "    .dataframe tbody tr th {\n",
       "        vertical-align: top;\n",
       "    }\n",
       "\n",
       "    .dataframe thead th {\n",
       "        text-align: right;\n",
       "    }\n",
       "</style>\n",
       "<table border=\"1\" class=\"dataframe\">\n",
       "  <thead>\n",
       "    <tr style=\"text-align: right;\">\n",
       "      <th></th>\n",
       "      <th>with</th>\n",
       "      <th>n_time</th>\n",
       "      <th>cumsum</th>\n",
       "      <th>sd</th>\n",
       "      <th>info_r</th>\n",
       "      <th>rank</th>\n",
       "    </tr>\n",
       "  </thead>\n",
       "  <tbody>\n",
       "    <tr>\n",
       "      <th>0</th>\n",
       "      <td>factors</td>\n",
       "      <td>6</td>\n",
       "      <td>0.179</td>\n",
       "      <td>0.052</td>\n",
       "      <td>0.037</td>\n",
       "      <td>12</td>\n",
       "    </tr>\n",
       "    <tr>\n",
       "      <th>1</th>\n",
       "      <td>factors</td>\n",
       "      <td>8</td>\n",
       "      <td>0.109</td>\n",
       "      <td>0.054</td>\n",
       "      <td>-0.055</td>\n",
       "      <td>11</td>\n",
       "    </tr>\n",
       "    <tr>\n",
       "      <th>2</th>\n",
       "      <td>factors</td>\n",
       "      <td>10</td>\n",
       "      <td>0.178</td>\n",
       "      <td>0.054</td>\n",
       "      <td>0.043</td>\n",
       "      <td>10</td>\n",
       "    </tr>\n",
       "    <tr>\n",
       "      <th>3</th>\n",
       "      <td>factors</td>\n",
       "      <td>12</td>\n",
       "      <td>0.132</td>\n",
       "      <td>0.050</td>\n",
       "      <td>-0.026</td>\n",
       "      <td>14</td>\n",
       "    </tr>\n",
       "    <tr>\n",
       "      <th>4</th>\n",
       "      <td>factors_residual</td>\n",
       "      <td>6</td>\n",
       "      <td>0.223</td>\n",
       "      <td>0.054</td>\n",
       "      <td>0.094</td>\n",
       "      <td>9</td>\n",
       "    </tr>\n",
       "    <tr>\n",
       "      <th>5</th>\n",
       "      <td>factors_residual</td>\n",
       "      <td>8</td>\n",
       "      <td>0.171</td>\n",
       "      <td>0.059</td>\n",
       "      <td>0.032</td>\n",
       "      <td>13</td>\n",
       "    </tr>\n",
       "    <tr>\n",
       "      <th>6</th>\n",
       "      <td>factors_residual</td>\n",
       "      <td>10</td>\n",
       "      <td>0.128</td>\n",
       "      <td>0.047</td>\n",
       "      <td>-0.038</td>\n",
       "      <td>15</td>\n",
       "    </tr>\n",
       "    <tr>\n",
       "      <th>7</th>\n",
       "      <td>factors_residual</td>\n",
       "      <td>12</td>\n",
       "      <td>0.127</td>\n",
       "      <td>0.050</td>\n",
       "      <td>-0.030</td>\n",
       "      <td>5</td>\n",
       "    </tr>\n",
       "    <tr>\n",
       "      <th>8</th>\n",
       "      <td>market_residual</td>\n",
       "      <td>6</td>\n",
       "      <td>0.279</td>\n",
       "      <td>0.051</td>\n",
       "      <td>0.148</td>\n",
       "      <td>3</td>\n",
       "    </tr>\n",
       "    <tr>\n",
       "      <th>9</th>\n",
       "      <td>market_residual</td>\n",
       "      <td>8</td>\n",
       "      <td>0.387</td>\n",
       "      <td>0.055</td>\n",
       "      <td>0.251</td>\n",
       "      <td>1</td>\n",
       "    </tr>\n",
       "    <tr>\n",
       "      <th>10</th>\n",
       "      <td>market_residual</td>\n",
       "      <td>10</td>\n",
       "      <td>0.362</td>\n",
       "      <td>0.048</td>\n",
       "      <td>0.257</td>\n",
       "      <td>6</td>\n",
       "    </tr>\n",
       "    <tr>\n",
       "      <th>11</th>\n",
       "      <td>market_residual</td>\n",
       "      <td>12</td>\n",
       "      <td>0.370</td>\n",
       "      <td>0.046</td>\n",
       "      <td>0.287</td>\n",
       "      <td>4</td>\n",
       "    </tr>\n",
       "    <tr>\n",
       "      <th>12</th>\n",
       "      <td>return</td>\n",
       "      <td>6</td>\n",
       "      <td>0.275</td>\n",
       "      <td>0.065</td>\n",
       "      <td>0.137</td>\n",
       "      <td>8</td>\n",
       "    </tr>\n",
       "    <tr>\n",
       "      <th>13</th>\n",
       "      <td>return</td>\n",
       "      <td>8</td>\n",
       "      <td>0.292</td>\n",
       "      <td>0.070</td>\n",
       "      <td>0.152</td>\n",
       "      <td>7</td>\n",
       "    </tr>\n",
       "    <tr>\n",
       "      <th>14</th>\n",
       "      <td>return</td>\n",
       "      <td>10</td>\n",
       "      <td>0.261</td>\n",
       "      <td>0.071</td>\n",
       "      <td>0.126</td>\n",
       "      <td>16</td>\n",
       "    </tr>\n",
       "    <tr>\n",
       "      <th>15</th>\n",
       "      <td>return</td>\n",
       "      <td>12</td>\n",
       "      <td>0.113</td>\n",
       "      <td>0.052</td>\n",
       "      <td>-0.045</td>\n",
       "      <td>2</td>\n",
       "    </tr>\n",
       "  </tbody>\n",
       "</table>\n",
       "</div>"
      ],
      "text/plain": [
       "                with  n_time  cumsum     sd  info_r  rank\n",
       "0            factors       6   0.179  0.052   0.037    12\n",
       "1            factors       8   0.109  0.054  -0.055    11\n",
       "2            factors      10   0.178  0.054   0.043    10\n",
       "3            factors      12   0.132  0.050  -0.026    14\n",
       "4   factors_residual       6   0.223  0.054   0.094     9\n",
       "5   factors_residual       8   0.171  0.059   0.032    13\n",
       "6   factors_residual      10   0.128  0.047  -0.038    15\n",
       "7   factors_residual      12   0.127  0.050  -0.030     5\n",
       "8    market_residual       6   0.279  0.051   0.148     3\n",
       "9    market_residual       8   0.387  0.055   0.251     1\n",
       "10   market_residual      10   0.362  0.048   0.257     6\n",
       "11   market_residual      12   0.370  0.046   0.287     4\n",
       "12            return       6   0.275  0.065   0.137     8\n",
       "13            return       8   0.292  0.070   0.152     7\n",
       "14            return      10   0.261  0.071   0.126    16\n",
       "15            return      12   0.113  0.052  -0.045     2"
      ]
     },
     "execution_count": 216,
     "metadata": {},
     "output_type": "execute_result"
    }
   ],
   "source": [
    "test_summ"
   ]
  },
  {
   "cell_type": "markdown",
   "metadata": {},
   "source": [
    "### Validation plot"
   ]
  },
  {
   "cell_type": "code",
   "execution_count": 280,
   "metadata": {},
   "outputs": [],
   "source": [
    "import seaborn.apionly as sns\n",
    "import matplotlib.pyplot as plt"
   ]
  },
  {
   "cell_type": "code",
   "execution_count": 313,
   "metadata": {},
   "outputs": [],
   "source": [
    "def cumret_plot(model):\n",
    "    model = pd.melt(model, id_vars=['time'], value_vars=['kospi', \"GMV\", \"Tangency\"])\n",
    "    model.columns = [\"time\", \"asset\", \"logret\"]\n",
    "    model[\"asset\"] = model.asset.astype(\"category\")\n",
    "    for a in model.asset.unique():\n",
    "        model.loc[model.asset == a, \"cumret\"] = model.loc[model.asset == a, \"logret\"].cumsum().to_numpy()\n",
    "        #model.loc[model.asset == a, \"cumret_lin\"] = np.exp(model.loc[model.asset == a, \"cumret\"].to_numpy())\n",
    "    \n",
    "    fig = plt.figure(figsize=(12,6))\n",
    "    ax = sns.lineplot(x=\"time\", y=\"cumret\", hue=\"asset\",\n",
    "                      marker=\"+\", mec=None, dashes=False, data=model)\n",
    "    ax.xaxis.set_tick_params(rotation=90)\n",
    "    \n",
    "    plt.xlabel(\"Time\", size=16)\n",
    "    plt.ylabel(\"Cumulative return\", size=16)\n",
    "    plt.grid()\n",
    "    plt.tight_layout()\n",
    "    \n",
    "    return fig, ax"
   ]
  },
  {
   "cell_type": "code",
   "execution_count": 314,
   "metadata": {},
   "outputs": [
    {
     "data": {
      "image/png": "[encoded data removed]",
      "text/plain": [
       "<Figure size 864x432 with 1 Axes>"
      ]
     },
     "metadata": {
      "needs_background": "light"
     },
     "output_type": "display_data"
    }
   ],
   "source": [
    "model = select_model(pd.concat([v[\"return\"] for v in valid_res]).reset_index(drop=True))\n",
    "valid_cumret_total_plot = cumret_plot(model)"
   ]
  },
  {
   "cell_type": "code",
   "execution_count": 315,
   "metadata": {},
   "outputs": [
    {
     "data": {
      "image/png": "[encoded data removed]",
      "text/plain": [
       "<Figure size 864x432 with 1 Axes>"
      ]
     },
     "metadata": {
      "needs_background": "light"
     },
     "output_type": "display_data"
    },
    {
     "data": {
      "image/png": "[encoded data removed]",
      "text/plain": [
       "<Figure size 864x432 with 1 Axes>"
      ]
     },
     "metadata": {
      "needs_background": "light"
     },
     "output_type": "display_data"
    },
    {
     "data": {
      "image/png": "[encoded data removed]",
      "text/plain": [
       "<Figure size 864x432 with 1 Axes>"
      ]
     },
     "metadata": {
      "needs_background": "light"
     },
     "output_type": "display_data"
    },
    {
     "data": {
      "image/png": "[encoded data removed]",
      "text/plain": [
       "<Figure size 864x432 with 1 Axes>"
      ]
     },
     "metadata": {
      "needs_background": "light"
     },
     "output_type": "display_data"
    }
   ],
   "source": [
    "valid_cumret_part_plot = [cumret_plot(select_model(v[\"return\"])) for v in valid_res]"
   ]
  },
  {
   "cell_type": "markdown",
   "metadata": {},
   "source": [
    "**Save figures**"
   ]
  },
  {
   "cell_type": "code",
   "execution_count": 316,
   "metadata": {},
   "outputs": [
    {
     "name": "stdout",
     "output_type": "stream",
     "text": [
      "figures saved\n"
     ]
    }
   ],
   "source": [
    "valid_cumret_total_plot[0].savefig(\"outputs/valid_plot_00(2).png\")\n",
    "[fig.savefig(f\"outputs/valid_plot_0{idx+1}(2).png\") for idx, (fig, ax) in enumerate(valid_cumret_part_plot)]\n",
    "\n",
    "print(\"figures saved\")"
   ]
  },
  {
   "cell_type": "markdown",
   "metadata": {},
   "source": [
    "### Test plot"
   ]
  },
  {
   "cell_type": "code",
   "execution_count": 317,
   "metadata": {},
   "outputs": [],
   "source": [
    "test_ret = test_res[\"return\"].loc[:, [\"time\", \"kospi\", \"factors_8_GMV\", \"factors_8_Tangency\"]]\n",
    "test_ret.columns = [\"time\", \"kospi\", \"GMV\", \"Tangency\"]\n",
    "test_ret.iloc[:, 1:] = test_ret.iloc[:, 1:].cumsum()"
   ]
  },
  {
   "cell_type": "code",
   "execution_count": 318,
   "metadata": {},
   "outputs": [
    {
     "data": {
      "text/html": [
       "<div>\n",
       "<style scoped>\n",
       "    .dataframe tbody tr th:only-of-type {\n",
       "        vertical-align: middle;\n",
       "    }\n",
       "\n",
       "    .dataframe tbody tr th {\n",
       "        vertical-align: top;\n",
       "    }\n",
       "\n",
       "    .dataframe thead th {\n",
       "        text-align: right;\n",
       "    }\n",
       "</style>\n",
       "<table border=\"1\" class=\"dataframe\">\n",
       "  <thead>\n",
       "    <tr style=\"text-align: right;\">\n",
       "      <th></th>\n",
       "      <th>time</th>\n",
       "      <th>kospi</th>\n",
       "      <th>GMV</th>\n",
       "      <th>Tangency</th>\n",
       "    </tr>\n",
       "  </thead>\n",
       "  <tbody>\n",
       "    <tr>\n",
       "      <th>0</th>\n",
       "      <td>2014-4</td>\n",
       "      <td>-0.050561</td>\n",
       "      <td>0.029067</td>\n",
       "      <td>0.017840</td>\n",
       "    </tr>\n",
       "    <tr>\n",
       "      <th>1</th>\n",
       "      <td>2015-1</td>\n",
       "      <td>-0.031081</td>\n",
       "      <td>0.057541</td>\n",
       "      <td>0.118789</td>\n",
       "    </tr>\n",
       "    <tr>\n",
       "      <th>2</th>\n",
       "      <td>2015-2</td>\n",
       "      <td>0.024265</td>\n",
       "      <td>-0.021340</td>\n",
       "      <td>0.167135</td>\n",
       "    </tr>\n",
       "    <tr>\n",
       "      <th>3</th>\n",
       "      <td>2015-3</td>\n",
       "      <td>-0.038072</td>\n",
       "      <td>0.005758</td>\n",
       "      <td>0.101273</td>\n",
       "    </tr>\n",
       "    <tr>\n",
       "      <th>4</th>\n",
       "      <td>2015-4</td>\n",
       "      <td>-0.029967</td>\n",
       "      <td>-0.015840</td>\n",
       "      <td>0.086028</td>\n",
       "    </tr>\n",
       "    <tr>\n",
       "      <th>5</th>\n",
       "      <td>2016-1</td>\n",
       "      <td>-0.056762</td>\n",
       "      <td>0.016858</td>\n",
       "      <td>0.064041</td>\n",
       "    </tr>\n",
       "    <tr>\n",
       "      <th>6</th>\n",
       "      <td>2016-2</td>\n",
       "      <td>-0.035809</td>\n",
       "      <td>0.046115</td>\n",
       "      <td>0.013034</td>\n",
       "    </tr>\n",
       "    <tr>\n",
       "      <th>7</th>\n",
       "      <td>2016-3</td>\n",
       "      <td>-0.011466</td>\n",
       "      <td>0.037461</td>\n",
       "      <td>-0.094428</td>\n",
       "    </tr>\n",
       "    <tr>\n",
       "      <th>8</th>\n",
       "      <td>2016-4</td>\n",
       "      <td>-0.024071</td>\n",
       "      <td>0.095484</td>\n",
       "      <td>-0.092357</td>\n",
       "    </tr>\n",
       "    <tr>\n",
       "      <th>9</th>\n",
       "      <td>2017-1</td>\n",
       "      <td>0.024783</td>\n",
       "      <td>0.188314</td>\n",
       "      <td>0.007016</td>\n",
       "    </tr>\n",
       "    <tr>\n",
       "      <th>10</th>\n",
       "      <td>2017-2</td>\n",
       "      <td>0.119118</td>\n",
       "      <td>0.157476</td>\n",
       "      <td>-0.019079</td>\n",
       "    </tr>\n",
       "    <tr>\n",
       "      <th>11</th>\n",
       "      <td>2017-3</td>\n",
       "      <td>0.149714</td>\n",
       "      <td>0.203660</td>\n",
       "      <td>0.014659</td>\n",
       "    </tr>\n",
       "  </tbody>\n",
       "</table>\n",
       "</div>"
      ],
      "text/plain": [
       "      time     kospi       GMV  Tangency\n",
       "0   2014-4 -0.050561  0.029067  0.017840\n",
       "1   2015-1 -0.031081  0.057541  0.118789\n",
       "2   2015-2  0.024265 -0.021340  0.167135\n",
       "3   2015-3 -0.038072  0.005758  0.101273\n",
       "4   2015-4 -0.029967 -0.015840  0.086028\n",
       "5   2016-1 -0.056762  0.016858  0.064041\n",
       "6   2016-2 -0.035809  0.046115  0.013034\n",
       "7   2016-3 -0.011466  0.037461 -0.094428\n",
       "8   2016-4 -0.024071  0.095484 -0.092357\n",
       "9   2017-1  0.024783  0.188314  0.007016\n",
       "10  2017-2  0.119118  0.157476 -0.019079\n",
       "11  2017-3  0.149714  0.203660  0.014659"
      ]
     },
     "execution_count": 318,
     "metadata": {},
     "output_type": "execute_result"
    }
   ],
   "source": [
    "test_ret"
   ]
  },
  {
   "cell_type": "code",
   "execution_count": 319,
   "metadata": {},
   "outputs": [
    {
     "data": {
      "image/png": "[encoded data removed]",
      "text/plain": [
       "<Figure size 864x432 with 1 Axes>"
      ]
     },
     "metadata": {
      "needs_background": "light"
     },
     "output_type": "display_data"
    }
   ],
   "source": [
    "test_cumret_plot = cumret_plot(select_model(test_res[\"return\"]))"
   ]
  },
  {
   "cell_type": "markdown",
   "metadata": {},
   "source": [
    "**Save figures**"
   ]
  },
  {
   "cell_type": "code",
   "execution_count": 320,
   "metadata": {},
   "outputs": [],
   "source": [
    "test_cumret_plot[0].savefig(\"outputs/test-plot(2).png\")"
   ]
  }
 ],
 "metadata": {
  "kernelspec": {
   "display_name": "Python 3",
   "language": "python",
   "name": "python3"
  },
  "language_info": {
   "codemirror_mode": {
    "name": "ipython",
    "version": 3
   },
   "file_extension": ".py",
   "mimetype": "text/x-python",
   "name": "python",
   "nbconvert_exporter": "python",
   "pygments_lexer": "ipython3",
   "version": "3.7.3"
  }
 },
 "nbformat": 4,
 "nbformat_minor": 2
}
